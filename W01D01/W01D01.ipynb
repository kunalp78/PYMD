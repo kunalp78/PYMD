{
 "cells": [
  {
   "cell_type": "code",
   "execution_count": null,
   "id": "efae0ab3-7bd1-48f7-af33-dd06cbdf08c0",
   "metadata": {},
   "outputs": [],
   "source": [
    "# esc + A --> to create the shell above\n",
    "# esc + B --> to create the shell below"
   ]
  },
  {
   "cell_type": "code",
   "execution_count": 1,
   "id": "165d0cb9-d9b7-4710-bd1c-b03a0f7438d5",
   "metadata": {},
   "outputs": [
    {
     "name": "stdout",
     "output_type": "stream",
     "text": [
      "Hello workd, I am from jupyter notebook\n"
     ]
    }
   ],
   "source": [
    "print(\"Hello workd, I am from jupyter notebook\")"
   ]
  },
  {
   "cell_type": "code",
   "execution_count": 2,
   "id": "7211deb8-1212-4ec3-9387-eddd5f1b0671",
   "metadata": {},
   "outputs": [
    {
     "name": "stdout",
     "output_type": "stream",
     "text": [
      "Mahesh\n"
     ]
    }
   ],
   "source": [
    "print(\"Mahesh\")"
   ]
  },
  {
   "cell_type": "code",
   "execution_count": 3,
   "id": "d7eee2b2-870f-4dab-84b5-14bfa675788f",
   "metadata": {},
   "outputs": [
    {
     "data": {
      "text/plain": [
       "7"
      ]
     },
     "execution_count": 3,
     "metadata": {},
     "output_type": "execute_result"
    }
   ],
   "source": [
    "5 + 2"
   ]
  },
  {
   "cell_type": "code",
   "execution_count": 4,
   "id": "c3f74cc4-c123-4c6d-af9f-f6df7fad6e03",
   "metadata": {},
   "outputs": [
    {
     "data": {
      "text/plain": [
       "1"
      ]
     },
     "execution_count": 4,
     "metadata": {},
     "output_type": "execute_result"
    }
   ],
   "source": [
    "3-2"
   ]
  },
  {
   "cell_type": "code",
   "execution_count": 5,
   "id": "42087cba-3f6b-49ed-a161-b733df15b843",
   "metadata": {},
   "outputs": [
    {
     "data": {
      "text/plain": [
       "64"
      ]
     },
     "execution_count": 5,
     "metadata": {},
     "output_type": "execute_result"
    }
   ],
   "source": [
    "8**2"
   ]
  },
  {
   "cell_type": "code",
   "execution_count": 6,
   "id": "81641cb4-2f72-45e9-aa1b-c8b0189c6ced",
   "metadata": {},
   "outputs": [
    {
     "data": {
      "text/plain": [
       "512"
      ]
     },
     "execution_count": 6,
     "metadata": {},
     "output_type": "execute_result"
    }
   ],
   "source": [
    "8**3"
   ]
  },
  {
   "cell_type": "code",
   "execution_count": 7,
   "id": "e19d7a25-721c-4b2b-bb51-24da2b05003c",
   "metadata": {},
   "outputs": [
    {
     "data": {
      "text/plain": [
       "4.0"
      ]
     },
     "execution_count": 7,
     "metadata": {},
     "output_type": "execute_result"
    }
   ],
   "source": [
    "8/2"
   ]
  },
  {
   "cell_type": "code",
   "execution_count": 8,
   "id": "0d9c9686-254e-4439-8b87-59cf64469e70",
   "metadata": {},
   "outputs": [
    {
     "data": {
      "text/plain": [
       "2.6666666666666665"
      ]
     },
     "execution_count": 8,
     "metadata": {},
     "output_type": "execute_result"
    }
   ],
   "source": [
    "8/3"
   ]
  },
  {
   "cell_type": "code",
   "execution_count": 9,
   "id": "0fbc172d-29d8-418f-9022-74559048d151",
   "metadata": {},
   "outputs": [
    {
     "data": {
      "text/plain": [
       "2"
      ]
     },
     "execution_count": 9,
     "metadata": {},
     "output_type": "execute_result"
    }
   ],
   "source": [
    "8//3"
   ]
  },
  {
   "cell_type": "code",
   "execution_count": 10,
   "id": "616de6ba-a972-49ce-9560-b91297309dc4",
   "metadata": {},
   "outputs": [
    {
     "data": {
      "text/plain": [
       "2"
      ]
     },
     "execution_count": 10,
     "metadata": {},
     "output_type": "execute_result"
    }
   ],
   "source": [
    "8%3"
   ]
  },
  {
   "cell_type": "code",
   "execution_count": 12,
   "id": "7c2006b1-5867-45c5-916b-deb0d27af211",
   "metadata": {},
   "outputs": [
    {
     "data": {
      "text/plain": [
       "1"
      ]
     },
     "execution_count": 12,
     "metadata": {},
     "output_type": "execute_result"
    }
   ],
   "source": [
    "5%2"
   ]
  },
  {
   "cell_type": "markdown",
   "id": "3660ed46-220e-4083-8e28-0f53e8d445e2",
   "metadata": {},
   "source": [
    "# Hey we will study datatypes"
   ]
  },
  {
   "cell_type": "code",
   "execution_count": 13,
   "id": "844c6899-fc46-4d20-99e2-1348b6e2d8ab",
   "metadata": {},
   "outputs": [
    {
     "name": "stdout",
     "output_type": "stream",
     "text": [
      "Hey\n"
     ]
    }
   ],
   "source": [
    "print(\"Hey\")"
   ]
  },
  {
   "cell_type": "code",
   "execution_count": 14,
   "id": "9a30cfd1-96b5-4902-8bde-1bff7fc3e18f",
   "metadata": {},
   "outputs": [
    {
     "data": {
      "text/plain": [
       "'string'"
      ]
     },
     "execution_count": 14,
     "metadata": {},
     "output_type": "execute_result"
    }
   ],
   "source": [
    "\"string\""
   ]
  },
  {
   "cell_type": "code",
   "execution_count": null,
   "id": "cd1c1d74-4395-484e-ab21-b2d26f27d33c",
   "metadata": {},
   "outputs": [],
   "source": [
    "\n",
    "int: 1,0,-1,-99, 83\n",
    "float: 2.0,2.1,32.89,64.01,23.0,-92.5\n",
    "str: \n",
    "    1) single quote: 'Salil gupta'\n",
    "    2) double quote: \"Krishnan\"\n",
    "    3) triple quote: Its also used for documentation. its also called doc string.\n",
    "        a) single triple quote: \n",
    "                '''\n",
    "                hey I am inside triple quote\n",
    "                and this is a multiline string\n",
    "                '''\n",
    "        b) double triple quote:\n",
    "                \"\"\"\n",
    "                Hey I am also a\n",
    "                multi line string\n",
    "                \"\"\"\n",
    "complex: 2 + 5j, -3 - 2j, -1j\n",
    "bool: True, False\n",
    "None type\n",
    "\n",
    "Collection:\n",
    "list: (mutable)\n",
    "    [], list() --> empty list\n",
    "    [1, 2, 3], [\"a\", \"b\", \"mahesh\", \"krishna\", \"salil\"], [1, \"mahesh\", 2+5j, True, None, [], [\"1\", 2]]\n",
    "tuple: (immutable) (it cannot be be changed once it is defined)\n",
    "    (), tuple() --> empty tuple\n",
    "    (1, 2, 3), ('a', 'b'), ('a', 1, 1j, [], (), (2, 3))\n",
    "set: It contains unique value, Mutable, It only stores immutable object\n",
    "    set() --> empty set\n",
    "    {1, 2, 3}, {\"a\", 2, 6j}\n",
    "dict: It stores key value pair. its a Mutable data type\n",
    "    dict(), {} --> empty dict\n",
    "    {\"key\": \"value\", 2: \"two\", \"three\": 3}\n",
    "        the dictionary key should always be an immutable object\n",
    "        the dictionary value can be any of the data type"
   ]
  },
  {
   "cell_type": "code",
   "execution_count": 15,
   "id": "ac6e2fea-9cc2-4b9e-99a9-1e8d48bb928b",
   "metadata": {},
   "outputs": [
    {
     "ename": "SyntaxError",
     "evalue": "unterminated string literal (detected at line 1) (2670177411.py, line 1)",
     "output_type": "error",
     "traceback": [
      "\u001b[1;36m  Cell \u001b[1;32mIn[15], line 1\u001b[1;36m\u001b[0m\n\u001b[1;33m    \"hey I am a devops engineer\u001b[0m\n\u001b[1;37m    ^\u001b[0m\n\u001b[1;31mSyntaxError\u001b[0m\u001b[1;31m:\u001b[0m unterminated string literal (detected at line 1)\n"
     ]
    }
   ],
   "source": [
    "\"hey I am a devops engineer\n",
    "I am learning python\""
   ]
  },
  {
   "cell_type": "code",
   "execution_count": 16,
   "id": "038fa13d-15b2-4008-b34b-f16ed14c16d7",
   "metadata": {},
   "outputs": [
    {
     "data": {
      "text/plain": [
       "'\\nhey I am inside triple quote\\nand this is a multiline string\\n'"
      ]
     },
     "execution_count": 16,
     "metadata": {},
     "output_type": "execute_result"
    }
   ],
   "source": [
    "'''\n",
    "hey I am inside triple quote\n",
    "and this is a multiline string\n",
    "'''"
   ]
  },
  {
   "cell_type": "code",
   "execution_count": 19,
   "id": "0f6afc56-1229-478d-a54d-a144557d37b7",
   "metadata": {},
   "outputs": [
    {
     "data": {
      "text/plain": [
       "'Hey I am also a\\nmulti line string\\n'"
      ]
     },
     "execution_count": 19,
     "metadata": {},
     "output_type": "execute_result"
    }
   ],
   "source": [
    "\"\"\"Hey I am also a\n",
    "multi line string\n",
    "\"\"\""
   ]
  },
  {
   "cell_type": "code",
   "execution_count": null,
   "id": "db846ae5-ebad-43b8-9147-0d05345b5d9a",
   "metadata": {},
   "outputs": [],
   "source": [
    "(apple, apple) --> 2"
   ]
  },
  {
   "cell_type": "code",
   "execution_count": 20,
   "id": "be11a4a6-a88e-4160-9aee-f1c8729e722e",
   "metadata": {},
   "outputs": [
    {
     "data": {
      "text/plain": [
       "str"
      ]
     },
     "execution_count": 20,
     "metadata": {},
     "output_type": "execute_result"
    }
   ],
   "source": [
    "type(\"mahesh\")"
   ]
  },
  {
   "cell_type": "code",
   "execution_count": 21,
   "id": "3516fa16-6e9f-4011-bb02-041602a2cbda",
   "metadata": {},
   "outputs": [
    {
     "data": {
      "text/plain": [
       "list"
      ]
     },
     "execution_count": 21,
     "metadata": {},
     "output_type": "execute_result"
    }
   ],
   "source": [
    "type([1, 2 ,5])"
   ]
  },
  {
   "cell_type": "code",
   "execution_count": 22,
   "id": "961bd4b9-8dd0-4555-a15a-3ff355856a50",
   "metadata": {},
   "outputs": [
    {
     "data": {
      "text/plain": [
       "complex"
      ]
     },
     "execution_count": 22,
     "metadata": {},
     "output_type": "execute_result"
    }
   ],
   "source": [
    "type(2 +3j)"
   ]
  },
  {
   "cell_type": "code",
   "execution_count": 23,
   "id": "b8440103-4128-44a6-bddc-44f7f95a47be",
   "metadata": {},
   "outputs": [
    {
     "data": {
      "text/plain": [
       "bool"
      ]
     },
     "execution_count": 23,
     "metadata": {},
     "output_type": "execute_result"
    }
   ],
   "source": [
    "type(True)"
   ]
  },
  {
   "cell_type": "code",
   "execution_count": 24,
   "id": "c5d00ec7-2eaf-40d4-8466-ec1d41969bc8",
   "metadata": {},
   "outputs": [
    {
     "data": {
      "text/plain": [
       "dict"
      ]
     },
     "execution_count": 24,
     "metadata": {},
     "output_type": "execute_result"
    }
   ],
   "source": [
    "type({})"
   ]
  },
  {
   "cell_type": "code",
   "execution_count": 25,
   "id": "c7212d81-ce9d-4cb6-b92c-8c5502d0a922",
   "metadata": {},
   "outputs": [
    {
     "data": {
      "text/plain": [
       "set"
      ]
     },
     "execution_count": 25,
     "metadata": {},
     "output_type": "execute_result"
    }
   ],
   "source": [
    "type({1})"
   ]
  },
  {
   "cell_type": "code",
   "execution_count": 26,
   "id": "712394de-f55e-4e9b-8074-cf3512443317",
   "metadata": {},
   "outputs": [
    {
     "data": {
      "text/plain": [
       "list"
      ]
     },
     "execution_count": 26,
     "metadata": {},
     "output_type": "execute_result"
    }
   ],
   "source": [
    "type([])"
   ]
  },
  {
   "cell_type": "code",
   "execution_count": 27,
   "id": "e22d19f0-1708-49fa-bfc4-105bcf6445bf",
   "metadata": {},
   "outputs": [
    {
     "data": {
      "text/plain": [
       "tuple"
      ]
     },
     "execution_count": 27,
     "metadata": {},
     "output_type": "execute_result"
    }
   ],
   "source": [
    "type(())"
   ]
  },
  {
   "cell_type": "code",
   "execution_count": null,
   "id": "6d9d8fcd-d53a-4719-bb59-d75a9628117e",
   "metadata": {},
   "outputs": [],
   "source": []
  }
 ],
 "metadata": {
  "kernelspec": {
   "display_name": "Python 3 (ipykernel)",
   "language": "python",
   "name": "python3"
  },
  "language_info": {
   "codemirror_mode": {
    "name": "ipython",
    "version": 3
   },
   "file_extension": ".py",
   "mimetype": "text/x-python",
   "name": "python",
   "nbconvert_exporter": "python",
   "pygments_lexer": "ipython3",
   "version": "3.13.0"
  }
 },
 "nbformat": 4,
 "nbformat_minor": 5
}
