{
 "cells": [
  {
   "cell_type": "code",
   "execution_count": 1,
   "id": "31e66e0c-35b7-4277-b4dd-9ec213312398",
   "metadata": {},
   "outputs": [],
   "source": [
    "# negative indexing\n",
    "l = [1, 2, \"3\", 5]"
   ]
  },
  {
   "cell_type": "code",
   "execution_count": 2,
   "id": "0cd9ab0a-512f-4255-aac8-61edcc6254bc",
   "metadata": {},
   "outputs": [
    {
     "data": {
      "text/plain": [
       "5"
      ]
     },
     "execution_count": 2,
     "metadata": {},
     "output_type": "execute_result"
    }
   ],
   "source": [
    "l[-1]"
   ]
  },
  {
   "cell_type": "code",
   "execution_count": 3,
   "id": "21e56c2c-79f3-406b-a0b8-46925771b2ce",
   "metadata": {},
   "outputs": [
    {
     "data": {
      "text/plain": [
       "'3'"
      ]
     },
     "execution_count": 3,
     "metadata": {},
     "output_type": "execute_result"
    }
   ],
   "source": [
    "l[-2]"
   ]
  },
  {
   "cell_type": "code",
   "execution_count": null,
   "id": "70a5cc52-06c2-4c99-a466-3da899ce40f7",
   "metadata": {},
   "outputs": [],
   "source": [
    "lenght of the list is 5"
   ]
  },
  {
   "cell_type": "code",
   "execution_count": 4,
   "id": "df5d0010-1d8b-4167-9baa-c5bf146bc591",
   "metadata": {},
   "outputs": [],
   "source": [
    "l.append(\"mahesh\")"
   ]
  },
  {
   "cell_type": "code",
   "execution_count": 5,
   "id": "e772f3ee-117c-43b6-a6af-6bbd3c3ddedd",
   "metadata": {},
   "outputs": [
    {
     "name": "stdout",
     "output_type": "stream",
     "text": [
      "[1, 2, '3', 5, 'mahesh']\n"
     ]
    }
   ],
   "source": [
    "print(l)"
   ]
  },
  {
   "cell_type": "code",
   "execution_count": 6,
   "id": "6dc85169-774f-4522-a080-9a96ed284688",
   "metadata": {},
   "outputs": [],
   "source": [
    "l.insert(2, \"Animesh\")"
   ]
  },
  {
   "cell_type": "code",
   "execution_count": 7,
   "id": "fa0ec70d-621f-48aa-9c20-1792f606d4a2",
   "metadata": {},
   "outputs": [
    {
     "name": "stdout",
     "output_type": "stream",
     "text": [
      "[1, 2, 'Animesh', '3', 5, 'mahesh']\n"
     ]
    }
   ],
   "source": [
    "print(l)"
   ]
  },
  {
   "cell_type": "code",
   "execution_count": 8,
   "id": "67af7c0e-80f2-4d50-be30-297040f5944e",
   "metadata": {},
   "outputs": [],
   "source": [
    "l.insert(0, \"shiva\")"
   ]
  },
  {
   "cell_type": "code",
   "execution_count": 9,
   "id": "7335abc8-0a70-4ed7-9789-5349d62c528c",
   "metadata": {},
   "outputs": [
    {
     "name": "stdout",
     "output_type": "stream",
     "text": [
      "['shiva', 1, 2, 'Animesh', '3', 5, 'mahesh']\n"
     ]
    }
   ],
   "source": [
    "print(l)"
   ]
  },
  {
   "cell_type": "code",
   "execution_count": 10,
   "id": "950ed8d1-4f4c-4944-9925-b636c97a7576",
   "metadata": {},
   "outputs": [
    {
     "name": "stdout",
     "output_type": "stream",
     "text": [
      "['', '', '', '', '']\n"
     ]
    }
   ],
   "source": [
    "l = [\"\"] * 5\n",
    "print(l)"
   ]
  },
  {
   "cell_type": "code",
   "execution_count": 11,
   "id": "3f04651c-3691-473c-a426-65d763761726",
   "metadata": {},
   "outputs": [
    {
     "name": "stdout",
     "output_type": "stream",
     "text": [
      "['Nainish', '', '', '', '']\n"
     ]
    }
   ],
   "source": [
    "l[0] = \"Nainish\"\n",
    "print(l)"
   ]
  },
  {
   "cell_type": "code",
   "execution_count": 12,
   "id": "612b6975-f16f-4123-ac0e-e83730f4d04a",
   "metadata": {},
   "outputs": [
    {
     "name": "stdout",
     "output_type": "stream",
     "text": [
      "['Nainish', 23, '', '', '']\n"
     ]
    }
   ],
   "source": [
    "l[1] = 23\n",
    "print(l)"
   ]
  },
  {
   "cell_type": "code",
   "execution_count": 14,
   "id": "5129826a-d06a-4270-b1bb-d3cec1151c3b",
   "metadata": {},
   "outputs": [
    {
     "name": "stdout",
     "output_type": "stream",
     "text": [
      "['Nainish', '', '', '']\n"
     ]
    }
   ],
   "source": [
    "l.remove(23)\n",
    "print(l)"
   ]
  },
  {
   "cell_type": "code",
   "execution_count": 15,
   "id": "c67ccd60-cec2-48b1-869e-81a7b665bf40",
   "metadata": {},
   "outputs": [],
   "source": [
    "del l"
   ]
  },
  {
   "cell_type": "code",
   "execution_count": 16,
   "id": "3f545ecd-ecb3-443a-85ed-5ccec8ef7e0c",
   "metadata": {},
   "outputs": [
    {
     "ename": "NameError",
     "evalue": "name 'l' is not defined",
     "output_type": "error",
     "traceback": [
      "\u001b[1;31m---------------------------------------------------------------------------\u001b[0m",
      "\u001b[1;31mNameError\u001b[0m                                 Traceback (most recent call last)",
      "Cell \u001b[1;32mIn[16], line 1\u001b[0m\n\u001b[1;32m----> 1\u001b[0m \u001b[38;5;28mprint\u001b[39m(\u001b[43ml\u001b[49m)\n",
      "\u001b[1;31mNameError\u001b[0m: name 'l' is not defined"
     ]
    }
   ],
   "source": [
    "print(l)"
   ]
  },
  {
   "cell_type": "code",
   "execution_count": 17,
   "id": "dee31611-fc07-4c28-8f25-0f444cff576d",
   "metadata": {},
   "outputs": [
    {
     "name": "stdout",
     "output_type": "stream",
     "text": [
      "<class 'dict'>\n"
     ]
    }
   ],
   "source": [
    "# dictionary\n",
    "d = {}\n",
    "print(type(d))"
   ]
  },
  {
   "cell_type": "code",
   "execution_count": 18,
   "id": "577449d6-4370-40fa-bb79-0ddcea541931",
   "metadata": {},
   "outputs": [],
   "source": [
    "employee = {}\n",
    "employee[\"name\"] = \"Animesh\"\n",
    "employee[\"ph no.\"] = \"+91 7999 99 9999\""
   ]
  },
  {
   "cell_type": "code",
   "execution_count": 19,
   "id": "aeb65413-095b-4922-a9ae-39ecb55e48a8",
   "metadata": {},
   "outputs": [
    {
     "name": "stdout",
     "output_type": "stream",
     "text": [
      "{'name': 'Animesh', 'ph no.': '+91 7999 99 9999'}\n"
     ]
    }
   ],
   "source": [
    "print(employee)"
   ]
  },
  {
   "cell_type": "code",
   "execution_count": 20,
   "id": "cd9342ba-6d6d-4217-a998-5ad7a2d72cfa",
   "metadata": {},
   "outputs": [],
   "source": [
    "employee.update({\"salary\": \"95k\"})"
   ]
  },
  {
   "cell_type": "code",
   "execution_count": 21,
   "id": "3a44ef2c-789e-4a29-ba4a-a8534d7569fa",
   "metadata": {},
   "outputs": [
    {
     "name": "stdout",
     "output_type": "stream",
     "text": [
      "{'name': 'Animesh', 'ph no.': '+91 7999 99 9999', 'salary': '95k'}\n"
     ]
    }
   ],
   "source": [
    "print(employee)"
   ]
  },
  {
   "cell_type": "code",
   "execution_count": 22,
   "id": "73408b65-a3ea-4bc8-8617-2164065c9893",
   "metadata": {},
   "outputs": [
    {
     "data": {
      "text/plain": [
       "dict_keys(['name', 'ph no.', 'salary'])"
      ]
     },
     "execution_count": 22,
     "metadata": {},
     "output_type": "execute_result"
    }
   ],
   "source": [
    "employee.keys()"
   ]
  },
  {
   "cell_type": "code",
   "execution_count": 23,
   "id": "7f236086-08f2-46e2-8f25-a3d4e8e3ca8f",
   "metadata": {},
   "outputs": [
    {
     "name": "stdout",
     "output_type": "stream",
     "text": [
      "['name', 'ph no.', 'salary']\n"
     ]
    }
   ],
   "source": [
    "l = list(employee.keys())\n",
    "print(l)"
   ]
  },
  {
   "cell_type": "code",
   "execution_count": 24,
   "id": "0a7744ea-5487-4bf1-9a79-dd06f63ccbff",
   "metadata": {},
   "outputs": [
    {
     "data": {
      "text/plain": [
       "'name'"
      ]
     },
     "execution_count": 24,
     "metadata": {},
     "output_type": "execute_result"
    }
   ],
   "source": [
    "l[0]"
   ]
  },
  {
   "cell_type": "code",
   "execution_count": 25,
   "id": "815d5ba1-1856-4d91-9f02-f0153923c46d",
   "metadata": {},
   "outputs": [
    {
     "data": {
      "text/plain": [
       "dict_values(['Animesh', '+91 7999 99 9999', '95k'])"
      ]
     },
     "execution_count": 25,
     "metadata": {},
     "output_type": "execute_result"
    }
   ],
   "source": [
    "employee.values()"
   ]
  },
  {
   "cell_type": "code",
   "execution_count": 26,
   "id": "543d988b-b7ea-4410-8122-ce6dab854254",
   "metadata": {},
   "outputs": [
    {
     "data": {
      "text/plain": [
       "dict_items([('name', 'Animesh'), ('ph no.', '+91 7999 99 9999'), ('salary', '95k')])"
      ]
     },
     "execution_count": 26,
     "metadata": {},
     "output_type": "execute_result"
    }
   ],
   "source": [
    "employee.items()"
   ]
  },
  {
   "cell_type": "code",
   "execution_count": 27,
   "id": "fd0e9ca5-a84f-456b-b61c-b8b736493956",
   "metadata": {},
   "outputs": [
    {
     "data": {
      "text/plain": [
       "{'name': 'Animesh', 'ph no.': '+91 7999 99 9999', 'salary': '95k'}"
      ]
     },
     "execution_count": 27,
     "metadata": {},
     "output_type": "execute_result"
    }
   ],
   "source": [
    "employee"
   ]
  },
  {
   "cell_type": "code",
   "execution_count": 28,
   "id": "54ec7b34-0beb-427a-aad2-8fa8948b3ecc",
   "metadata": {},
   "outputs": [],
   "source": [
    "employee[\"name\"] = \"Nainish\""
   ]
  },
  {
   "cell_type": "code",
   "execution_count": 29,
   "id": "ce2d9628-e6e8-4f74-aea7-1a27d3ab5c6e",
   "metadata": {},
   "outputs": [
    {
     "data": {
      "text/plain": [
       "'Nainish'"
      ]
     },
     "execution_count": 29,
     "metadata": {},
     "output_type": "execute_result"
    }
   ],
   "source": [
    "employee[\"name\"]"
   ]
  },
  {
   "cell_type": "code",
   "execution_count": 30,
   "id": "b8126f42-3f53-49a0-be40-ac84137c7b08",
   "metadata": {},
   "outputs": [],
   "source": [
    "# If the key value pair doesnt exist, the new key-val pair is created.\n",
    "# else the value for the correspondoing key would be updated"
   ]
  },
  {
   "cell_type": "code",
   "execution_count": null,
   "id": "0c49e5b9-f2ad-45e7-b524-2cf275ebd288",
   "metadata": {},
   "outputs": [],
   "source": [
    "Q) len(employee)\n",
    "a) 6\n",
    "b) 3\n",
    "c) error because its not list/tuple or string"
   ]
  },
  {
   "cell_type": "code",
   "execution_count": 31,
   "id": "4bb54b02-23f6-436c-9d22-c32e057cc383",
   "metadata": {},
   "outputs": [
    {
     "data": {
      "text/plain": [
       "'Nainish'"
      ]
     },
     "execution_count": 31,
     "metadata": {},
     "output_type": "execute_result"
    }
   ],
   "source": [
    "employee.get(\"name\")"
   ]
  },
  {
   "cell_type": "code",
   "execution_count": 32,
   "id": "efe9b017-73d9-423a-b202-748397de9a54",
   "metadata": {},
   "outputs": [
    {
     "data": {
      "text/plain": [
       "3"
      ]
     },
     "execution_count": 32,
     "metadata": {},
     "output_type": "execute_result"
    }
   ],
   "source": [
    "len(employee)"
   ]
  },
  {
   "cell_type": "code",
   "execution_count": 33,
   "id": "9840a5ec-fafc-40ba-aa65-17e26f46e7c3",
   "metadata": {},
   "outputs": [
    {
     "ename": "KeyError",
     "evalue": "0",
     "output_type": "error",
     "traceback": [
      "\u001b[1;31m---------------------------------------------------------------------------\u001b[0m",
      "\u001b[1;31mKeyError\u001b[0m                                  Traceback (most recent call last)",
      "Cell \u001b[1;32mIn[33], line 1\u001b[0m\n\u001b[1;32m----> 1\u001b[0m \u001b[43memployee\u001b[49m\u001b[43m[\u001b[49m\u001b[38;5;241;43m0\u001b[39;49m\u001b[43m]\u001b[49m\n",
      "\u001b[1;31mKeyError\u001b[0m: 0"
     ]
    }
   ],
   "source": [
    "employee[0]"
   ]
  },
  {
   "cell_type": "code",
   "execution_count": 34,
   "id": "a2f4b4f6-95aa-4454-86a1-bdb0b65d5816",
   "metadata": {},
   "outputs": [
    {
     "data": {
      "text/plain": [
       "2148949369376"
      ]
     },
     "execution_count": 34,
     "metadata": {},
     "output_type": "execute_result"
    }
   ],
   "source": [
    "id(employee.get(\"name\"))"
   ]
  },
  {
   "cell_type": "code",
   "execution_count": 35,
   "id": "57b3cb2c-a82d-4d4e-8536-6e2a906097ba",
   "metadata": {},
   "outputs": [
    {
     "name": "stdout",
     "output_type": "stream",
     "text": [
      "None\n"
     ]
    }
   ],
   "source": [
    "print(employee.get(0))"
   ]
  },
  {
   "cell_type": "code",
   "execution_count": 36,
   "id": "354361a7-e23d-444d-b60a-2a25c85cd544",
   "metadata": {},
   "outputs": [
    {
     "name": "stdout",
     "output_type": "stream",
     "text": [
      "{'name': 'Nainish', 'ph no.': '+91 7999 99 9999', 'salary': '95k'}\n"
     ]
    }
   ],
   "source": [
    "# Removing element from the dictionary\n",
    "print(employee)"
   ]
  },
  {
   "cell_type": "code",
   "execution_count": 38,
   "id": "9449c102-f5d4-479f-a9f2-5f9b11559cff",
   "metadata": {},
   "outputs": [
    {
     "data": {
      "text/plain": [
       "'+91 7999 99 9999'"
      ]
     },
     "execution_count": 38,
     "metadata": {},
     "output_type": "execute_result"
    }
   ],
   "source": [
    "employee.pop(\"ph no.\")"
   ]
  },
  {
   "cell_type": "code",
   "execution_count": 39,
   "id": "84da3b55-cda6-41c4-bf32-cd0749038e5a",
   "metadata": {},
   "outputs": [
    {
     "data": {
      "text/plain": [
       "{'name': 'Nainish', 'salary': '95k'}"
      ]
     },
     "execution_count": 39,
     "metadata": {},
     "output_type": "execute_result"
    }
   ],
   "source": [
    "employee"
   ]
  },
  {
   "cell_type": "code",
   "execution_count": 40,
   "id": "34145af4-11f1-42c5-96fc-67f5b7120669",
   "metadata": {},
   "outputs": [],
   "source": [
    "del employee['salary']"
   ]
  },
  {
   "cell_type": "code",
   "execution_count": 41,
   "id": "36e9c4cf-a22f-4d0d-96bf-2d7475e4844a",
   "metadata": {},
   "outputs": [
    {
     "data": {
      "text/plain": [
       "{'name': 'Nainish'}"
      ]
     },
     "execution_count": 41,
     "metadata": {},
     "output_type": "execute_result"
    }
   ],
   "source": [
    "employee"
   ]
  },
  {
   "cell_type": "code",
   "execution_count": 42,
   "id": "98307788-2fc2-4277-8a16-c0b158440f64",
   "metadata": {},
   "outputs": [],
   "source": [
    "employee.clear()"
   ]
  },
  {
   "cell_type": "code",
   "execution_count": 43,
   "id": "ec0d4550-1584-4380-aca1-67b48d149a9a",
   "metadata": {},
   "outputs": [
    {
     "data": {
      "text/plain": [
       "{}"
      ]
     },
     "execution_count": 43,
     "metadata": {},
     "output_type": "execute_result"
    }
   ],
   "source": [
    "employee"
   ]
  },
  {
   "cell_type": "code",
   "execution_count": 44,
   "id": "5d2fa7ae-2f34-4806-a24f-2cd4b1a494df",
   "metadata": {
    "collapsed": true,
    "jupyter": {
     "outputs_hidden": true
    },
    "scrolled": true
   },
   "outputs": [
    {
     "name": "stdout",
     "output_type": "stream",
     "text": [
      "Help on class dict in module builtins:\n",
      "\n",
      "class dict(object)\n",
      " |  dict() -> new empty dictionary\n",
      " |  dict(mapping) -> new dictionary initialized from a mapping object's\n",
      " |      (key, value) pairs\n",
      " |  dict(iterable) -> new dictionary initialized as if via:\n",
      " |      d = {}\n",
      " |      for k, v in iterable:\n",
      " |          d[k] = v\n",
      " |  dict(**kwargs) -> new dictionary initialized with the name=value pairs\n",
      " |      in the keyword argument list.  For example:  dict(one=1, two=2)\n",
      " |\n",
      " |  Methods defined here:\n",
      " |\n",
      " |  __contains__(self, key, /)\n",
      " |      True if the dictionary has the specified key, else False.\n",
      " |\n",
      " |  __delitem__(self, key, /)\n",
      " |      Delete self[key].\n",
      " |\n",
      " |  __eq__(self, value, /)\n",
      " |      Return self==value.\n",
      " |\n",
      " |  __ge__(self, value, /)\n",
      " |      Return self>=value.\n",
      " |\n",
      " |  __getattribute__(self, name, /)\n",
      " |      Return getattr(self, name).\n",
      " |\n",
      " |  __getitem__(self, key, /)\n",
      " |      Return self[key].\n",
      " |\n",
      " |  __gt__(self, value, /)\n",
      " |      Return self>value.\n",
      " |\n",
      " |  __init__(self, /, *args, **kwargs)\n",
      " |      Initialize self.  See help(type(self)) for accurate signature.\n",
      " |\n",
      " |  __ior__(self, value, /)\n",
      " |      Return self|=value.\n",
      " |\n",
      " |  __iter__(self, /)\n",
      " |      Implement iter(self).\n",
      " |\n",
      " |  __le__(self, value, /)\n",
      " |      Return self<=value.\n",
      " |\n",
      " |  __len__(self, /)\n",
      " |      Return len(self).\n",
      " |\n",
      " |  __lt__(self, value, /)\n",
      " |      Return self<value.\n",
      " |\n",
      " |  __ne__(self, value, /)\n",
      " |      Return self!=value.\n",
      " |\n",
      " |  __or__(self, value, /)\n",
      " |      Return self|value.\n",
      " |\n",
      " |  __repr__(self, /)\n",
      " |      Return repr(self).\n",
      " |\n",
      " |  __reversed__(self, /)\n",
      " |      Return a reverse iterator over the dict keys.\n",
      " |\n",
      " |  __ror__(self, value, /)\n",
      " |      Return value|self.\n",
      " |\n",
      " |  __setitem__(self, key, value, /)\n",
      " |      Set self[key] to value.\n",
      " |\n",
      " |  __sizeof__(self, /)\n",
      " |      Return the size of the dict in memory, in bytes.\n",
      " |\n",
      " |  clear(self, /)\n",
      " |      Remove all items from the dict.\n",
      " |\n",
      " |  copy(self, /)\n",
      " |      Return a shallow copy of the dict.\n",
      " |\n",
      " |  get(self, key, default=None, /)\n",
      " |      Return the value for key if key is in the dictionary, else default.\n",
      " |\n",
      " |  items(self, /)\n",
      " |      Return a set-like object providing a view on the dict's items.\n",
      " |\n",
      " |  keys(self, /)\n",
      " |      Return a set-like object providing a view on the dict's keys.\n",
      " |\n",
      " |  pop(self, key, default=<unrepresentable>, /)\n",
      " |      D.pop(k[,d]) -> v, remove specified key and return the corresponding value.\n",
      " |\n",
      " |      If the key is not found, return the default if given; otherwise,\n",
      " |      raise a KeyError.\n",
      " |\n",
      " |  popitem(self, /)\n",
      " |      Remove and return a (key, value) pair as a 2-tuple.\n",
      " |\n",
      " |      Pairs are returned in LIFO (last-in, first-out) order.\n",
      " |      Raises KeyError if the dict is empty.\n",
      " |\n",
      " |  setdefault(self, key, default=None, /)\n",
      " |      Insert key with a value of default if key is not in the dictionary.\n",
      " |\n",
      " |      Return the value for key if key is in the dictionary, else default.\n",
      " |\n",
      " |  update(...)\n",
      " |      D.update([E, ]**F) -> None.  Update D from dict/iterable E and F.\n",
      " |      If E is present and has a .keys() method, then does:  for k in E: D[k] = E[k]\n",
      " |      If E is present and lacks a .keys() method, then does:  for k, v in E: D[k] = v\n",
      " |      In either case, this is followed by: for k in F:  D[k] = F[k]\n",
      " |\n",
      " |  values(self, /)\n",
      " |      Return an object providing a view on the dict's values.\n",
      " |\n",
      " |  ----------------------------------------------------------------------\n",
      " |  Class methods defined here:\n",
      " |\n",
      " |  __class_getitem__(object, /)\n",
      " |      See PEP 585\n",
      " |\n",
      " |  fromkeys(iterable, value=None, /)\n",
      " |      Create a new dictionary with keys from iterable and values set to value.\n",
      " |\n",
      " |  ----------------------------------------------------------------------\n",
      " |  Static methods defined here:\n",
      " |\n",
      " |  __new__(*args, **kwargs)\n",
      " |      Create and return a new object.  See help(type) for accurate signature.\n",
      " |\n",
      " |  ----------------------------------------------------------------------\n",
      " |  Data and other attributes defined here:\n",
      " |\n",
      " |  __hash__ = None\n",
      "\n"
     ]
    }
   ],
   "source": [
    "help(dict)\n"
   ]
  },
  {
   "cell_type": "code",
   "execution_count": 45,
   "id": "3e88522d-c857-4eb2-88ae-aa387373d042",
   "metadata": {},
   "outputs": [],
   "source": [
    "# Set\n",
    "fruits = set()"
   ]
  },
  {
   "cell_type": "code",
   "execution_count": 46,
   "id": "38f35c21-ad3c-40b4-81f4-c2d7a395c1a5",
   "metadata": {},
   "outputs": [
    {
     "name": "stdout",
     "output_type": "stream",
     "text": [
      "<class 'set'>\n"
     ]
    }
   ],
   "source": [
    "fruits = {\"apple\", \"banana\", \"kiwi\", \"mango\", \"pineapple\"}\n",
    "print(type(fruits))"
   ]
  },
  {
   "cell_type": "code",
   "execution_count": null,
   "id": "7c24e5c7-85ba-41e2-817b-51eebdeeb397",
   "metadata": {},
   "outputs": [],
   "source": [
    "# set doesnot support duplicate values.\n",
    "# the members of the set are immutable objects\n",
    "{[1, 2],5}  --> X"
   ]
  },
  {
   "cell_type": "code",
   "execution_count": 47,
   "id": "e9b45d71-9594-40c0-8511-00302dd75a50",
   "metadata": {},
   "outputs": [
    {
     "ename": "TypeError",
     "evalue": "unhashable type: 'list'",
     "output_type": "error",
     "traceback": [
      "\u001b[1;31m---------------------------------------------------------------------------\u001b[0m",
      "\u001b[1;31mTypeError\u001b[0m                                 Traceback (most recent call last)",
      "Cell \u001b[1;32mIn[47], line 1\u001b[0m\n\u001b[1;32m----> 1\u001b[0m {[\u001b[38;5;241m1\u001b[39m, \u001b[38;5;241m2\u001b[39m],\u001b[38;5;241m5\u001b[39m}\n",
      "\u001b[1;31mTypeError\u001b[0m: unhashable type: 'list'"
     ]
    }
   ],
   "source": [
    "{[1, 2],5}"
   ]
  },
  {
   "cell_type": "code",
   "execution_count": 48,
   "id": "82fc0340-e192-4749-8687-df319c78df19",
   "metadata": {},
   "outputs": [
    {
     "data": {
      "text/plain": [
       "{(1, 2), 5}"
      ]
     },
     "execution_count": 48,
     "metadata": {},
     "output_type": "execute_result"
    }
   ],
   "source": [
    "{(1, 2), 5}"
   ]
  },
  {
   "cell_type": "code",
   "execution_count": 49,
   "id": "a6ea1248-7c90-448f-b36b-e7d4b3711002",
   "metadata": {},
   "outputs": [
    {
     "name": "stdout",
     "output_type": "stream",
     "text": [
      "{'pineapple', 'apple', 'kiwi', 'banana', 'mango'}\n"
     ]
    }
   ],
   "source": [
    "print(fruits)"
   ]
  },
  {
   "cell_type": "code",
   "execution_count": 50,
   "id": "ca04c851-cf50-47c1-955c-5bf684d84dcf",
   "metadata": {},
   "outputs": [
    {
     "name": "stdout",
     "output_type": "stream",
     "text": [
      "{'pineapple', 'apple', 'kiwi', 'banana', 'pomegranate', 'mango'}\n"
     ]
    }
   ],
   "source": [
    "fruits.add(\"pomegranate\")\n",
    "print(fruits)"
   ]
  },
  {
   "cell_type": "code",
   "execution_count": 51,
   "id": "d2f13c57-a20f-4c8b-8a7e-07b01fdad6e5",
   "metadata": {},
   "outputs": [],
   "source": [
    "fruits.remove(\"kiwi\")"
   ]
  },
  {
   "cell_type": "code",
   "execution_count": 52,
   "id": "e5e1f3c6-07b8-4c6c-b21e-4aa3d151f071",
   "metadata": {},
   "outputs": [
    {
     "name": "stdout",
     "output_type": "stream",
     "text": [
      "{'pineapple', 'apple', 'banana', 'pomegranate', 'mango'}\n"
     ]
    }
   ],
   "source": [
    "print(fruits)"
   ]
  },
  {
   "cell_type": "code",
   "execution_count": 53,
   "id": "07ab8340-3b9d-4e1e-9e73-2285862abf17",
   "metadata": {},
   "outputs": [
    {
     "data": {
      "text/plain": [
       "'pineapple'"
      ]
     },
     "execution_count": 53,
     "metadata": {},
     "output_type": "execute_result"
    }
   ],
   "source": [
    "# pop method of set, removes random items from the set\n",
    "fruits.pop()"
   ]
  },
  {
   "cell_type": "code",
   "execution_count": 54,
   "id": "3b76bdc8-9bf8-4c57-8d9a-4c7b159f68ee",
   "metadata": {},
   "outputs": [],
   "source": [
    "fruits.clear()"
   ]
  },
  {
   "cell_type": "code",
   "execution_count": 55,
   "id": "714a1c62-80c2-463d-9498-9fe2d1f5ea35",
   "metadata": {},
   "outputs": [
    {
     "name": "stdout",
     "output_type": "stream",
     "text": [
      "set()\n"
     ]
    }
   ],
   "source": [
    "print(fruits)"
   ]
  },
  {
   "cell_type": "code",
   "execution_count": 56,
   "id": "0747f988-51de-41c1-9d47-9f33cd680ce5",
   "metadata": {},
   "outputs": [],
   "source": [
    "del fruits"
   ]
  },
  {
   "cell_type": "code",
   "execution_count": 57,
   "id": "d411ffe5-8d67-4ca1-af24-e14cdf626db0",
   "metadata": {},
   "outputs": [
    {
     "ename": "NameError",
     "evalue": "name 'fruits' is not defined",
     "output_type": "error",
     "traceback": [
      "\u001b[1;31m---------------------------------------------------------------------------\u001b[0m",
      "\u001b[1;31mNameError\u001b[0m                                 Traceback (most recent call last)",
      "Cell \u001b[1;32mIn[57], line 1\u001b[0m\n\u001b[1;32m----> 1\u001b[0m \u001b[38;5;28mprint\u001b[39m(\u001b[43mfruits\u001b[49m)\n",
      "\u001b[1;31mNameError\u001b[0m: name 'fruits' is not defined"
     ]
    }
   ],
   "source": [
    "print(fruits)"
   ]
  },
  {
   "cell_type": "code",
   "execution_count": 58,
   "id": "827a880f-a2b3-4320-af10-2c90dfbbde24",
   "metadata": {},
   "outputs": [],
   "source": [
    "# join Operations\n",
    "set1 = {1, 2, 3}\n",
    "set2 = {4, 5}\n",
    "set3 = set1.union(set2)"
   ]
  },
  {
   "cell_type": "code",
   "execution_count": 59,
   "id": "95507afc-5a24-4be8-84c1-bba47e637b08",
   "metadata": {},
   "outputs": [
    {
     "name": "stdout",
     "output_type": "stream",
     "text": [
      "{1, 2, 3, 4, 5}\n"
     ]
    }
   ],
   "source": [
    "print(set3)"
   ]
  },
  {
   "cell_type": "code",
   "execution_count": 60,
   "id": "77540062-ed82-4947-b93b-1d040f4a3426",
   "metadata": {},
   "outputs": [
    {
     "name": "stdout",
     "output_type": "stream",
     "text": [
      "{1, 2, 3, 4, 5}\n"
     ]
    }
   ],
   "source": [
    "set4 = set1 | set2\n",
    "print(set4)"
   ]
  },
  {
   "cell_type": "code",
   "execution_count": 61,
   "id": "512c0ae6-7d15-49b1-99e5-3d11b27f73e8",
   "metadata": {},
   "outputs": [],
   "source": [
    "# Intersection\n",
    "set1 = {1, 2, 3}\n",
    "set2 = {3, 4, 5}\n",
    "set5 = set1.intersection(set2)"
   ]
  },
  {
   "cell_type": "code",
   "execution_count": 62,
   "id": "2cd425a1-2dd2-4b77-9097-ff2c11e06c28",
   "metadata": {},
   "outputs": [
    {
     "name": "stdout",
     "output_type": "stream",
     "text": [
      "{3}\n"
     ]
    }
   ],
   "source": [
    "print(set5)"
   ]
  },
  {
   "cell_type": "code",
   "execution_count": 63,
   "id": "47cef987-1a24-48a7-a9a9-9d055ef1705c",
   "metadata": {},
   "outputs": [],
   "source": [
    "set6 = set1 & set2"
   ]
  },
  {
   "cell_type": "code",
   "execution_count": 64,
   "id": "2f1d83b8-dd26-409c-85d0-2aa77e4ddf03",
   "metadata": {},
   "outputs": [
    {
     "name": "stdout",
     "output_type": "stream",
     "text": [
      "{3}\n"
     ]
    }
   ],
   "source": [
    "print(set6)"
   ]
  },
  {
   "cell_type": "code",
   "execution_count": 65,
   "id": "2b2a71a1-2ede-47ad-9476-7d55ce8ffa11",
   "metadata": {},
   "outputs": [
    {
     "name": "stdout",
     "output_type": "stream",
     "text": [
      "{1, 2}\n"
     ]
    }
   ],
   "source": [
    "# difference\n",
    "set1 = {1, 2, 3}\n",
    "set2 = {3, 4, 5}\n",
    "set3 = set1.difference(set2)\n",
    "print(set3)"
   ]
  },
  {
   "cell_type": "code",
   "execution_count": null,
   "id": "5e055be8-f644-40bc-b1bd-16aad0727036",
   "metadata": {},
   "outputs": [],
   "source": [
    "# update, symmetric differnce"
   ]
  },
  {
   "cell_type": "markdown",
   "id": "f30f3769-3601-415b-bd89-3aa3df09763b",
   "metadata": {},
   "source": [
    "# Conditional Statements"
   ]
  },
  {
   "cell_type": "code",
   "execution_count": null,
   "id": "03860aa4-8fe3-40dc-9496-96ccdf41313a",
   "metadata": {},
   "outputs": [],
   "source": [
    "# the dashes below are symbolic reference to spaces\n",
    "# if statement\n",
    "if <condition>:\n",
    "----#statemets\n",
    "\n",
    "# if else conditions\n",
    "if <condition>:\n",
    "----# statement 1\n",
    "else:\n",
    "----# statement 2\n",
    "\n",
    "# if else ladder\n",
    "if <condition 1>:\n",
    "----# statement 1\n",
    "elif <condition 2>:\n",
    "----# statement 2\n",
    "elif ...\n",
    "...\n",
    "...\n",
    "else:\n",
    "----# last statemnt\n",
    "\n",
    "# nested of else\n",
    "if <condition 1>:\n",
    "----if <condition a>:\n",
    "--------## condition a\n",
    "else:\n",
    "----if <condtns z>\n",
    "--------# condition 99\n",
    "----elif <cond. z1>\n",
    "-------# condtion 100"
   ]
  },
  {
   "cell_type": "code",
   "execution_count": 66,
   "id": "22c09c9d-857b-4ea3-b878-287f66827c60",
   "metadata": {},
   "outputs": [
    {
     "name": "stdout",
     "output_type": "stream",
     "text": [
      "B is samller then a\n"
     ]
    }
   ],
   "source": [
    "a = 53\n",
    "b = -1\n",
    "if b < a:\n",
    "    print(\"B is samller then a\")"
   ]
  },
  {
   "cell_type": "code",
   "execution_count": 67,
   "id": "83750cff-5693-456a-96f1-e4aab93c31a5",
   "metadata": {},
   "outputs": [
    {
     "name": "stdout",
     "output_type": "stream",
     "text": [
      "a is greater\n"
     ]
    }
   ],
   "source": [
    "if a > b:\n",
    "    print(\"a is greater\")\n",
    "else:\n",
    "    print(\"b is greater\")"
   ]
  },
  {
   "cell_type": "code",
   "execution_count": 68,
   "id": "5c09a520-86f1-4f8c-acd5-2fa69bbd0907",
   "metadata": {},
   "outputs": [
    {
     "name": "stdout",
     "output_type": "stream",
     "text": [
      "b is greater\n"
     ]
    }
   ],
   "source": [
    "a = -99\n",
    "if a > b:\n",
    "    print(\"a is greater\")\n",
    "else:\n",
    "    print(\"b is greater\")"
   ]
  },
  {
   "cell_type": "code",
   "execution_count": 71,
   "id": "e98e71f7-8c07-4119-96fe-28cc893c65d0",
   "metadata": {},
   "outputs": [
    {
     "name": "stdout",
     "output_type": "stream",
     "text": [
      "b is smaller than a\n"
     ]
    }
   ],
   "source": [
    "a = 99\n",
    "if a > b: print(\"b is smaller than a\")"
   ]
  },
  {
   "cell_type": "code",
   "execution_count": 72,
   "id": "1d9e68d4-dbda-476b-9792-f685941d1ab9",
   "metadata": {},
   "outputs": [
    {
     "name": "stdout",
     "output_type": "stream",
     "text": [
      "a is greater\n"
     ]
    }
   ],
   "source": [
    "a = 99\n",
    "b = -1\n",
    "print(\"a is greater\") if a > b else print(\"b is greater than a\")"
   ]
  },
  {
   "cell_type": "code",
   "execution_count": null,
   "id": "de0d13bc-0fda-48fa-8cce-32dbce9dbfa5",
   "metadata": {},
   "outputs": [],
   "source": [
    "# loops\n",
    "1) while loop\n",
    "2) for loop"
   ]
  },
  {
   "cell_type": "code",
   "execution_count": null,
   "id": "98d77615-5f8a-45b8-b674-79a7779f2b05",
   "metadata": {},
   "outputs": [],
   "source": [
    "# entry controlled loop\n",
    "while <condition>:\n",
    "----#statemnts\n",
    "----#exit statement"
   ]
  },
  {
   "cell_type": "code",
   "execution_count": 73,
   "id": "f704168c-d5ee-4c81-b0fd-116f399d26a2",
   "metadata": {},
   "outputs": [
    {
     "name": "stdout",
     "output_type": "stream",
     "text": [
      "10 X 1 = 10\n",
      "10 X 2 = 20\n",
      "10 X 3 = 30\n",
      "10 X 4 = 40\n",
      "10 X 5 = 50\n",
      "10 X 6 = 60\n",
      "10 X 7 = 70\n",
      "10 X 8 = 80\n",
      "10 X 9 = 90\n",
      "10 X 10 = 100\n"
     ]
    }
   ],
   "source": [
    "\"\"\"\n",
    "10 X 1 = 10\n",
    "10 X 2 = 20\n",
    "10 X ... = ...\n",
    "\"\"\"\n",
    "num = 10\n",
    "temp = 1\n",
    "while temp <= 10:\n",
    "    print(f\"{num} X {temp} = {num * temp}\")\n",
    "    temp += 1"
   ]
  },
  {
   "cell_type": "code",
   "execution_count": 74,
   "id": "519f439d-fefa-479d-a0ca-162bf627c15a",
   "metadata": {},
   "outputs": [
    {
     "data": {
      "text/plain": [
       "65"
      ]
     },
     "execution_count": 74,
     "metadata": {},
     "output_type": "execute_result"
    }
   ],
   "source": [
    "# A-Z\n",
    "ord(\"A\")"
   ]
  },
  {
   "cell_type": "code",
   "execution_count": 75,
   "id": "6b5bec5a-46d9-452c-b3d5-580d73840f0f",
   "metadata": {},
   "outputs": [
    {
     "data": {
      "text/plain": [
       "'+'"
      ]
     },
     "execution_count": 75,
     "metadata": {},
     "output_type": "execute_result"
    }
   ],
   "source": [
    "chr(43)"
   ]
  },
  {
   "cell_type": "code",
   "execution_count": 76,
   "id": "fcd2c003-c3e6-4a84-a837-0a9db84bd1e8",
   "metadata": {},
   "outputs": [
    {
     "data": {
      "text/plain": [
       "'A'"
      ]
     },
     "execution_count": 76,
     "metadata": {},
     "output_type": "execute_result"
    }
   ],
   "source": [
    "chr(65)"
   ]
  },
  {
   "cell_type": "code",
   "execution_count": 78,
   "id": "450457da-8cae-4948-a288-82f46b35e8e7",
   "metadata": {},
   "outputs": [
    {
     "data": {
      "text/plain": [
       "'Z'"
      ]
     },
     "execution_count": 78,
     "metadata": {},
     "output_type": "execute_result"
    }
   ],
   "source": [
    "chr(65+25)"
   ]
  },
  {
   "cell_type": "code",
   "execution_count": 82,
   "id": "68eba297-dfe1-4efc-a887-8985a964daf8",
   "metadata": {},
   "outputs": [
    {
     "name": "stdout",
     "output_type": "stream",
     "text": [
      "A,B,C,D,E,F,G,H,I,J,K,L,M,N,O,P,Q,R,S,T,U,V,W,X,Y,Z,"
     ]
    }
   ],
   "source": [
    "start_val = 65\n",
    "while start_val <= 90:\n",
    "    print(chr(start_val), end=\",\")\n",
    "    start_val += 1"
   ]
  },
  {
   "cell_type": "code",
   "execution_count": null,
   "id": "adab4fbb-a756-449e-8e19-0718740ea7fd",
   "metadata": {},
   "outputs": [],
   "source": [
    "# HW\n",
    "# write a python program using while loop to print the even numbers from 0-100"
   ]
  },
  {
   "cell_type": "code",
   "execution_count": null,
   "id": "df1e4766-3cfb-49c4-9115-f40f51c7e5c3",
   "metadata": {},
   "outputs": [],
   "source": []
  }
 ],
 "metadata": {
  "kernelspec": {
   "display_name": "Python 3 (ipykernel)",
   "language": "python",
   "name": "python3"
  },
  "language_info": {
   "codemirror_mode": {
    "name": "ipython",
    "version": 3
   },
   "file_extension": ".py",
   "mimetype": "text/x-python",
   "name": "python",
   "nbconvert_exporter": "python",
   "pygments_lexer": "ipython3",
   "version": "3.13.0"
  }
 },
 "nbformat": 4,
 "nbformat_minor": 5
}
