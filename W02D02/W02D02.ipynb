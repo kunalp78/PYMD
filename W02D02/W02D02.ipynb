{
 "cells": [
  {
   "cell_type": "code",
   "execution_count": 2,
   "id": "561fb1e9-c56f-450d-b656-76fdaff9a828",
   "metadata": {},
   "outputs": [
    {
     "data": {
      "text/plain": [
       "8"
      ]
     },
     "execution_count": 2,
     "metadata": {},
     "output_type": "execute_result"
    }
   ],
   "source": [
    "# functions\n",
    "def calculator(a, b):\n",
    "    return a + b\n",
    "calculator(5, 3)"
   ]
  },
  {
   "cell_type": "code",
   "execution_count": null,
   "id": "9a3e6ac6-67c0-43de-8911-c00261124c8f",
   "metadata": {},
   "outputs": [],
   "source": [
    "# syntax\n",
    "def function_name(parm1, param2=\"default value\", *args, **kwargs):\n",
    "----# statements"
   ]
  },
  {
   "cell_type": "code",
   "execution_count": null,
   "id": "efacb1d5-13b7-44e1-98eb-1ea4486615df",
   "metadata": {},
   "outputs": [],
   "source": [
    "function_name(3, 5,...)"
   ]
  },
  {
   "cell_type": "code",
   "execution_count": 3,
   "id": "ae29954b-1e97-4807-8bdd-9a5d1df293ee",
   "metadata": {},
   "outputs": [],
   "source": [
    "# calculator(2, \"-\", 5)\n",
    "def calculator(first_val, operator, secnd_val):\n",
    "    operator_dict = {\n",
    "        \"+\": first_val + secnd_val,\n",
    "        \"-\": first_val - secnd_val,\n",
    "        \"X\": first_val * secnd_val,\n",
    "        \"/\": first_val / secnd_val\n",
    "    }\n",
    "    return operator_dict.get(operator)"
   ]
  },
  {
   "cell_type": "code",
   "execution_count": 4,
   "id": "ff68c239-2b8d-4bf2-a39b-9eb78471ceb6",
   "metadata": {},
   "outputs": [
    {
     "data": {
      "text/plain": [
       "15"
      ]
     },
     "execution_count": 4,
     "metadata": {},
     "output_type": "execute_result"
    }
   ],
   "source": [
    "calculator(5, \"X\", 3)"
   ]
  },
  {
   "cell_type": "code",
   "execution_count": 5,
   "id": "9cb18d2e-168e-4696-a326-4c982b4526b5",
   "metadata": {},
   "outputs": [
    {
     "data": {
      "text/plain": [
       "8"
      ]
     },
     "execution_count": 5,
     "metadata": {},
     "output_type": "execute_result"
    }
   ],
   "source": [
    "calculator(5, \"+\", 3)"
   ]
  },
  {
   "cell_type": "code",
   "execution_count": 6,
   "id": "860b2786-b7d4-4d5b-93be-fb3457e06857",
   "metadata": {},
   "outputs": [
    {
     "data": {
      "text/plain": [
       "2"
      ]
     },
     "execution_count": 6,
     "metadata": {},
     "output_type": "execute_result"
    }
   ],
   "source": [
    "calculator(5, \"-\", 3)"
   ]
  },
  {
   "cell_type": "code",
   "execution_count": 7,
   "id": "0b173de2-4e9d-454a-a886-12ef9ee05401",
   "metadata": {},
   "outputs": [],
   "source": [
    "calculator(5, \"*\", 3)"
   ]
  },
  {
   "cell_type": "code",
   "execution_count": 9,
   "id": "623f5e90-f212-4dd0-af6d-c844aa6082d6",
   "metadata": {},
   "outputs": [
    {
     "name": "stdout",
     "output_type": "stream",
     "text": [
      "Oops! you have used a wrong operator k. please choose something from below\n",
      "+, -, X, /\n"
     ]
    }
   ],
   "source": [
    "def calculator(first_val, operator, secnd_val):\n",
    "    operator_dict = {\n",
    "        \"+\": first_val + secnd_val,\n",
    "        \"-\": first_val - secnd_val,\n",
    "        \"X\": first_val * secnd_val,\n",
    "        \"/\": first_val / secnd_val\n",
    "    }\n",
    "    val = operator_dict.get(operator)\n",
    "    if val is None:\n",
    "        print(f\"Oops! you have used a wrong operator {operator}. please choose something from below\")\n",
    "        print(\"+, -, X, /\")\n",
    "    else:\n",
    "        return val\n",
    "calculator(5, \"k\", 5)"
   ]
  },
  {
   "cell_type": "code",
   "execution_count": 10,
   "id": "100d130a-f053-404b-bdbb-52723bee519f",
   "metadata": {},
   "outputs": [
    {
     "name": "stdout",
     "output_type": "stream",
     "text": [
      "Oops! you have used a wrong operator *. please choose something from below\n",
      "+, -, X, /\n"
     ]
    }
   ],
   "source": [
    "calculator(5, \"*\", 5)"
   ]
  },
  {
   "cell_type": "code",
   "execution_count": 11,
   "id": "f3ea703e-c25b-446d-8e34-ca607c47a93f",
   "metadata": {},
   "outputs": [
    {
     "ename": "ZeroDivisionError",
     "evalue": "division by zero",
     "output_type": "error",
     "traceback": [
      "\u001b[1;31m---------------------------------------------------------------------------\u001b[0m",
      "\u001b[1;31mZeroDivisionError\u001b[0m                         Traceback (most recent call last)",
      "Cell \u001b[1;32mIn[11], line 1\u001b[0m\n\u001b[1;32m----> 1\u001b[0m \u001b[43mcalculator\u001b[49m\u001b[43m(\u001b[49m\u001b[38;5;241;43m5\u001b[39;49m\u001b[43m,\u001b[49m\u001b[43m \u001b[49m\u001b[38;5;124;43m\"\u001b[39;49m\u001b[38;5;124;43m*\u001b[39;49m\u001b[38;5;124;43m\"\u001b[39;49m\u001b[43m,\u001b[49m\u001b[43m \u001b[49m\u001b[38;5;241;43m0\u001b[39;49m\u001b[43m)\u001b[49m\n",
      "Cell \u001b[1;32mIn[9], line 6\u001b[0m, in \u001b[0;36mcalculator\u001b[1;34m(first_val, operator, secnd_val)\u001b[0m\n\u001b[0;32m      1\u001b[0m \u001b[38;5;28;01mdef\u001b[39;00m \u001b[38;5;21mcalculator\u001b[39m(first_val, operator, secnd_val):\n\u001b[0;32m      2\u001b[0m     operator_dict \u001b[38;5;241m=\u001b[39m {\n\u001b[0;32m      3\u001b[0m         \u001b[38;5;124m\"\u001b[39m\u001b[38;5;124m+\u001b[39m\u001b[38;5;124m\"\u001b[39m: first_val \u001b[38;5;241m+\u001b[39m secnd_val,\n\u001b[0;32m      4\u001b[0m         \u001b[38;5;124m\"\u001b[39m\u001b[38;5;124m-\u001b[39m\u001b[38;5;124m\"\u001b[39m: first_val \u001b[38;5;241m-\u001b[39m secnd_val,\n\u001b[0;32m      5\u001b[0m         \u001b[38;5;124m\"\u001b[39m\u001b[38;5;124mX\u001b[39m\u001b[38;5;124m\"\u001b[39m: first_val \u001b[38;5;241m*\u001b[39m secnd_val,\n\u001b[1;32m----> 6\u001b[0m         \u001b[38;5;124m\"\u001b[39m\u001b[38;5;124m/\u001b[39m\u001b[38;5;124m\"\u001b[39m: \u001b[43mfirst_val\u001b[49m\u001b[43m \u001b[49m\u001b[38;5;241;43m/\u001b[39;49m\u001b[43m \u001b[49m\u001b[43msecnd_val\u001b[49m\n\u001b[0;32m      7\u001b[0m     }\n\u001b[0;32m      8\u001b[0m     val \u001b[38;5;241m=\u001b[39m operator_dict\u001b[38;5;241m.\u001b[39mget(operator)\n\u001b[0;32m      9\u001b[0m     \u001b[38;5;28;01mif\u001b[39;00m val \u001b[38;5;129;01mis\u001b[39;00m \u001b[38;5;28;01mNone\u001b[39;00m:\n",
      "\u001b[1;31mZeroDivisionError\u001b[0m: division by zero"
     ]
    }
   ],
   "source": [
    "calculator(5, \"*\", 0)"
   ]
  },
  {
   "cell_type": "code",
   "execution_count": 12,
   "id": "8e8fa38f-1422-495d-b355-9e83590b79cd",
   "metadata": {},
   "outputs": [
    {
     "ename": "TypeError",
     "evalue": "calculator() missing 1 required positional argument: 'secnd_val'",
     "output_type": "error",
     "traceback": [
      "\u001b[1;31m---------------------------------------------------------------------------\u001b[0m",
      "\u001b[1;31mTypeError\u001b[0m                                 Traceback (most recent call last)",
      "Cell \u001b[1;32mIn[12], line 1\u001b[0m\n\u001b[1;32m----> 1\u001b[0m \u001b[43mcalculator\u001b[49m\u001b[43m(\u001b[49m\u001b[38;5;241;43m5\u001b[39;49m\u001b[43m,\u001b[49m\u001b[43m \u001b[49m\u001b[38;5;124;43m\"\u001b[39;49m\u001b[38;5;124;43mX\u001b[39;49m\u001b[38;5;124;43m\"\u001b[39;49m\u001b[43m)\u001b[49m\n",
      "\u001b[1;31mTypeError\u001b[0m: calculator() missing 1 required positional argument: 'secnd_val'"
     ]
    }
   ],
   "source": [
    "calculator(5, \"X\")"
   ]
  },
  {
   "cell_type": "code",
   "execution_count": 13,
   "id": "c92de667-2ffa-44bd-85a6-6633fc2c696c",
   "metadata": {},
   "outputs": [
    {
     "data": {
      "text/plain": [
       "0"
      ]
     },
     "execution_count": 13,
     "metadata": {},
     "output_type": "execute_result"
    }
   ],
   "source": [
    "def calculator(first_val=0, operator=\"X\", secnd_val=1):\n",
    "    operator_dict = {\n",
    "        \"+\": first_val + secnd_val,\n",
    "        \"-\": first_val - secnd_val,\n",
    "        \"X\": first_val * secnd_val,\n",
    "        \"/\": first_val / secnd_val\n",
    "    }\n",
    "    val = operator_dict.get(operator)\n",
    "    if val is None:\n",
    "        print(f\"Oops! you have used a wrong operator {operator}. please choose something from below\")\n",
    "        print(\"+, -, X, /\")\n",
    "    else:\n",
    "        return val\n",
    "\n",
    "calculator()"
   ]
  },
  {
   "cell_type": "code",
   "execution_count": 15,
   "id": "7d275d92-7e2f-4d9c-9487-8ec12a75b797",
   "metadata": {},
   "outputs": [
    {
     "data": {
      "text/plain": [
       "7"
      ]
     },
     "execution_count": 15,
     "metadata": {},
     "output_type": "execute_result"
    }
   ],
   "source": [
    "def sum_calculator(val1, val2):\n",
    "    return val1 + val2\n",
    "sum_calculator(5, 2)"
   ]
  },
  {
   "cell_type": "code",
   "execution_count": 20,
   "id": "1001cb7d-fabb-4ae3-af10-338892a79609",
   "metadata": {},
   "outputs": [],
   "source": [
    "def sum_calculator(*val):\n",
    "    print(val)\n",
    "    return sum(val)"
   ]
  },
  {
   "cell_type": "code",
   "execution_count": 21,
   "id": "751a0d30-28c0-4b70-a385-acf4844a36de",
   "metadata": {},
   "outputs": [
    {
     "name": "stdout",
     "output_type": "stream",
     "text": [
      "(5, 2, 6)\n"
     ]
    },
    {
     "data": {
      "text/plain": [
       "13"
      ]
     },
     "execution_count": 21,
     "metadata": {},
     "output_type": "execute_result"
    }
   ],
   "source": [
    "sum_calculator(5, 2, 6)"
   ]
  },
  {
   "cell_type": "code",
   "execution_count": 23,
   "id": "f360c5ec-d661-4449-a7f6-5b9c1ad83e23",
   "metadata": {},
   "outputs": [
    {
     "name": "stdout",
     "output_type": "stream",
     "text": [
      "(1, 2, 3, 4)\n"
     ]
    },
    {
     "data": {
      "text/plain": [
       "10"
      ]
     },
     "execution_count": 23,
     "metadata": {},
     "output_type": "execute_result"
    }
   ],
   "source": [
    "def sum_calculator(*val):\n",
    "    print(val)\n",
    "    temp = 0\n",
    "    summ = 0\n",
    "    while temp < len(val):\n",
    "        summ += val[temp]\n",
    "        temp += 1\n",
    "    return summ\n",
    "sum_calculator(1, 2, 3, 4)"
   ]
  },
  {
   "cell_type": "code",
   "execution_count": 24,
   "id": "310c3fc3-fea2-46e1-8033-0e39e511130c",
   "metadata": {},
   "outputs": [],
   "source": [
    "# Keyword argument\n",
    "def names_of_people(per1, per2, per3):\n",
    "    print(f\"{per1} and {per2} are our chief guest\")"
   ]
  },
  {
   "cell_type": "code",
   "execution_count": 25,
   "id": "5aa2769a-c51a-432d-ac98-0dd7aa14c235",
   "metadata": {},
   "outputs": [
    {
     "name": "stdout",
     "output_type": "stream",
     "text": [
      "Mahesh and Nainesh are our chief guest\n"
     ]
    }
   ],
   "source": [
    "names_of_people(\"Mahesh\", \"Nainesh\", \"Gopal\")"
   ]
  },
  {
   "cell_type": "code",
   "execution_count": 28,
   "id": "410f6737-512c-465b-aeea-43f11fa31db6",
   "metadata": {},
   "outputs": [
    {
     "name": "stdout",
     "output_type": "stream",
     "text": [
      "Nainesh and Mahesh are our chief guest\n"
     ]
    }
   ],
   "source": [
    "names_of_people(per2=\"Mahesh\", per1=\"Nainesh\", per3=\"gopal\")"
   ]
  },
  {
   "cell_type": "code",
   "execution_count": 30,
   "id": "6a0dc0a1-86ea-4dd1-995f-aa75da59ad0f",
   "metadata": {},
   "outputs": [
    {
     "name": "stdout",
     "output_type": "stream",
     "text": [
      "{'per2': 'Mahesh', 'per1': 'Nainesh', 'per3': 'gopal'}\n",
      "Mahesh is our only chief guest today\n"
     ]
    }
   ],
   "source": [
    "def names_of_people(**anyname):\n",
    "    print(anyname)\n",
    "    print(anyname[\"per2\"], \"is our only chief guest today\")\n",
    "\n",
    "names_of_people(per2=\"Mahesh\", per1=\"Nainesh\", per3=\"gopal\")"
   ]
  },
  {
   "cell_type": "code",
   "execution_count": null,
   "id": "ef6907f5-74a9-4236-a9b1-b9731aed2a5e",
   "metadata": {},
   "outputs": [],
   "source": [
    "def func(parm1, parm2, *args, **kwargs):\n",
    "    # statements\n",
    "    pass"
   ]
  },
  {
   "cell_type": "code",
   "execution_count": 31,
   "id": "543d87c9-e66d-4efc-81de-238a8f6db843",
   "metadata": {},
   "outputs": [
    {
     "name": "stdout",
     "output_type": "stream",
     "text": [
      "<function names_of_people at 0x000002B084E06E80>\n"
     ]
    }
   ],
   "source": [
    "# lambda\n",
    "print(names_of_people)"
   ]
  },
  {
   "cell_type": "code",
   "execution_count": 32,
   "id": "4129d0f5-b5fb-4822-b178-159d6a8266fd",
   "metadata": {},
   "outputs": [
    {
     "name": "stdout",
     "output_type": "stream",
     "text": [
      "<function <lambda> at 0x000002B0842BA480>\n"
     ]
    }
   ],
   "source": [
    "print(lambda a: a ** 2)"
   ]
  },
  {
   "cell_type": "code",
   "execution_count": 33,
   "id": "73f785b1-9e2d-4ebf-9707-6dc36ec5829f",
   "metadata": {},
   "outputs": [
    {
     "name": "stdout",
     "output_type": "stream",
     "text": [
      "<function <lambda> at 0x000002B084E64220>\n"
     ]
    }
   ],
   "source": [
    "print(lambda a: a ** 2)"
   ]
  },
  {
   "cell_type": "code",
   "execution_count": 34,
   "id": "b5cdb405-fd01-4142-a7a1-11f8fd6a2c61",
   "metadata": {},
   "outputs": [
    {
     "name": "stdout",
     "output_type": "stream",
     "text": [
      "<function names_of_people at 0x000002B084E06E80>\n"
     ]
    }
   ],
   "source": [
    "print(names_of_people)"
   ]
  },
  {
   "cell_type": "code",
   "execution_count": 35,
   "id": "dea1d8d8-272c-4a00-a46b-dfed59752690",
   "metadata": {},
   "outputs": [
    {
     "name": "stdout",
     "output_type": "stream",
     "text": [
      "25\n"
     ]
    }
   ],
   "source": [
    "print((lambda a: a ** 2)(5))"
   ]
  },
  {
   "cell_type": "code",
   "execution_count": 36,
   "id": "6fb201d0-7997-492c-ae02-a850bdb61ec0",
   "metadata": {},
   "outputs": [
    {
     "data": {
      "text/plain": [
       "30"
      ]
     },
     "execution_count": 36,
     "metadata": {},
     "output_type": "execute_result"
    }
   ],
   "source": [
    "(lambda a, b: a*b)(5, 6)"
   ]
  },
  {
   "cell_type": "code",
   "execution_count": 37,
   "id": "85460a22-c51d-4d10-9271-9f87d7d68f66",
   "metadata": {},
   "outputs": [
    {
     "name": "stdout",
     "output_type": "stream",
     "text": [
      "<function <lambda> at 0x000002B084E647C0>\n"
     ]
    }
   ],
   "source": [
    "x = lambda a, b, c: a+b+c\n",
    "print(x)"
   ]
  },
  {
   "cell_type": "code",
   "execution_count": 38,
   "id": "66e793c2-7ec4-41ce-aa3e-a2b3a715334e",
   "metadata": {},
   "outputs": [
    {
     "data": {
      "text/plain": [
       "10"
      ]
     },
     "execution_count": 38,
     "metadata": {},
     "output_type": "execute_result"
    }
   ],
   "source": [
    "x(2,3,5)"
   ]
  },
  {
   "cell_type": "code",
   "execution_count": 39,
   "id": "168a677f-3623-47a6-baf2-8756a6e7d862",
   "metadata": {},
   "outputs": [
    {
     "data": {
      "text/plain": [
       "11"
      ]
     },
     "execution_count": 39,
     "metadata": {},
     "output_type": "execute_result"
    }
   ],
   "source": [
    "(lambda *val: sum(val))(1,2,3,5)"
   ]
  },
  {
   "cell_type": "code",
   "execution_count": 50,
   "id": "72110a18-eb5c-47ca-b430-f7d02737006e",
   "metadata": {},
   "outputs": [
    {
     "name": "stdout",
     "output_type": "stream",
     "text": [
      "(1, 2, 3, 5)\n"
     ]
    },
    {
     "data": {
      "text/plain": [
       "11"
      ]
     },
     "execution_count": 50,
     "metadata": {},
     "output_type": "execute_result"
    }
   ],
   "source": [
    "def sum_calculator(*val):\n",
    "    print(val)\n",
    "    temp = 0\n",
    "    summ = 0\n",
    "    while temp < len(val):\n",
    "        summ += val[temp]\n",
    "        temp += 1\n",
    "    return summ\n",
    "(lambda *val1: sum_calculator(*val1))(1,2,3,5)"
   ]
  },
  {
   "cell_type": "code",
   "execution_count": null,
   "id": "ea08096d-b6de-4a39-b0c5-3297bbd873db",
   "metadata": {},
   "outputs": [],
   "source": [
    "(lambda parma1,...: operations with params)(args...)"
   ]
  },
  {
   "cell_type": "code",
   "execution_count": null,
   "id": "52658671-1747-4343-a29c-f3cbc376d6e5",
   "metadata": {},
   "outputs": [],
   "source": [
    "# for loop\n",
    "\"\"\"\n",
    "iterables:\n",
    "    list,\n",
    "    tuple,\n",
    "    dictionary,\n",
    "    set,\n",
    "    range etc...\n",
    "\"\"\"\n",
    "for i in iterable:\n",
    "    print(i)"
   ]
  },
  {
   "cell_type": "code",
   "execution_count": 51,
   "id": "e8e87125-f0c2-4c6b-bd88-e0b5a6a3d8e0",
   "metadata": {},
   "outputs": [
    {
     "name": "stdout",
     "output_type": "stream",
     "text": [
      "1\n",
      "2\n",
      "3\n",
      "4\n",
      "5\n"
     ]
    }
   ],
   "source": [
    "# WAP  to print 1 to 10\n",
    "l = [1, 2, 3, 4 ,5]\n",
    "for i in l:\n",
    "    print(i)"
   ]
  },
  {
   "cell_type": "code",
   "execution_count": 52,
   "id": "109a875f-8364-49f5-b892-cb774656e703",
   "metadata": {},
   "outputs": [
    {
     "name": "stdout",
     "output_type": "stream",
     "text": [
      "0\n",
      "1\n",
      "2\n",
      "3\n",
      "4\n",
      "5\n",
      "6\n",
      "7\n",
      "8\n",
      "9\n"
     ]
    }
   ],
   "source": [
    "for i in range(10):\n",
    "    print(i)"
   ]
  },
  {
   "cell_type": "code",
   "execution_count": null,
   "id": "abfc2426-ca76-4a4c-9530-aeb7a76325ff",
   "metadata": {},
   "outputs": [],
   "source": [
    "range(n) --> 0 to n-1\n",
    "# immutable data type\n",
    "range(1,6) --> 1 to 6-1"
   ]
  },
  {
   "cell_type": "code",
   "execution_count": 53,
   "id": "eabd5483-8f57-4f7f-aa2d-379c27477b7a",
   "metadata": {},
   "outputs": [
    {
     "data": {
      "text/plain": [
       "range(0, 10)"
      ]
     },
     "execution_count": 53,
     "metadata": {},
     "output_type": "execute_result"
    }
   ],
   "source": [
    "range(10)"
   ]
  },
  {
   "cell_type": "code",
   "execution_count": 54,
   "id": "ff9e8538-3d8d-4ec3-9f4b-3240273797c8",
   "metadata": {},
   "outputs": [
    {
     "data": {
      "text/plain": [
       "range(1, 6)"
      ]
     },
     "execution_count": 54,
     "metadata": {},
     "output_type": "execute_result"
    }
   ],
   "source": [
    "range(1, 6)"
   ]
  },
  {
   "cell_type": "code",
   "execution_count": 55,
   "id": "dc0eb4d4-19a0-4c76-8950-421861fe999e",
   "metadata": {},
   "outputs": [
    {
     "name": "stdout",
     "output_type": "stream",
     "text": [
      "1\n",
      "2\n",
      "3\n",
      "4\n",
      "5\n",
      "6\n",
      "7\n",
      "8\n",
      "9\n",
      "10\n"
     ]
    }
   ],
   "source": [
    "for i in range(1,11):\n",
    "    print(i)"
   ]
  },
  {
   "cell_type": "code",
   "execution_count": 56,
   "id": "afe66b00-a080-49a9-abaf-ab43284be1f1",
   "metadata": {},
   "outputs": [
    {
     "name": "stdout",
     "output_type": "stream",
     "text": [
      "1\n",
      "3\n",
      "5\n",
      "7\n",
      "9\n"
     ]
    }
   ],
   "source": [
    "for i in range(1, 11):\n",
    "    if i%2!=0:\n",
    "        print(i)"
   ]
  },
  {
   "cell_type": "code",
   "execution_count": 57,
   "id": "7c192aaf-efaf-42b3-98e5-078ded15e1da",
   "metadata": {},
   "outputs": [
    {
     "name": "stdout",
     "output_type": "stream",
     "text": [
      "1\n",
      "3\n",
      "5\n",
      "7\n",
      "9\n"
     ]
    }
   ],
   "source": [
    "for i in range(1, 11, 2):\n",
    "    print(i)"
   ]
  },
  {
   "cell_type": "code",
   "execution_count": 58,
   "id": "7ade776e-2fe8-4fae-91ea-6813a5dbf347",
   "metadata": {},
   "outputs": [
    {
     "name": "stdout",
     "output_type": "stream",
     "text": [
      "1\n",
      "4\n",
      "7\n",
      "10\n"
     ]
    }
   ],
   "source": [
    "for i in range(1, 11, 3):\n",
    "    print(i)"
   ]
  },
  {
   "cell_type": "code",
   "execution_count": 59,
   "id": "30837c66-974a-4b61-ae39-35b0e12f1735",
   "metadata": {},
   "outputs": [
    {
     "data": {
      "text/plain": [
       "range(11, 0, -1)"
      ]
     },
     "execution_count": 59,
     "metadata": {},
     "output_type": "execute_result"
    }
   ],
   "source": [
    "range(11, 0, -1)"
   ]
  },
  {
   "cell_type": "code",
   "execution_count": 60,
   "id": "e18da547-a980-4395-bf5c-e1b5ca0dc895",
   "metadata": {},
   "outputs": [
    {
     "data": {
      "text/plain": [
       "[11, 10, 9, 8, 7, 6, 5, 4, 3, 2, 1]"
      ]
     },
     "execution_count": 60,
     "metadata": {},
     "output_type": "execute_result"
    }
   ],
   "source": [
    "list(range(11, 0, -1))"
   ]
  },
  {
   "cell_type": "code",
   "execution_count": 61,
   "id": "84c102aa-6a38-4461-adc5-5ed9fb9d9d5c",
   "metadata": {},
   "outputs": [
    {
     "name": "stdout",
     "output_type": "stream",
     "text": [
      "11\n",
      "10\n",
      "9\n",
      "8\n",
      "7\n",
      "6\n",
      "5\n",
      "4\n",
      "3\n",
      "2\n",
      "1\n"
     ]
    }
   ],
   "source": [
    "for i in range(11, 0, -1):\n",
    "    print(i)"
   ]
  },
  {
   "cell_type": "code",
   "execution_count": 62,
   "id": "9ba65205-a151-4819-a3e5-689d58d1a646",
   "metadata": {},
   "outputs": [
    {
     "name": "stdout",
     "output_type": "stream",
     "text": [
      "11\n",
      "9\n",
      "7\n",
      "5\n",
      "3\n",
      "1\n"
     ]
    }
   ],
   "source": [
    "for i in range(11, 0, -2):\n",
    "    print(i)"
   ]
  },
  {
   "cell_type": "code",
   "execution_count": 64,
   "id": "960bda8b-7b91-4b62-8e35-7256157de57b",
   "metadata": {},
   "outputs": [
    {
     "data": {
      "text/plain": [
       "[0, 2, 4, 6, 8, 10]"
      ]
     },
     "execution_count": 64,
     "metadata": {},
     "output_type": "execute_result"
    }
   ],
   "source": [
    "list(range(0, 11, 2))"
   ]
  },
  {
   "cell_type": "code",
   "execution_count": 65,
   "id": "542947e2-0b58-4951-ba32-9f3c64072c62",
   "metadata": {},
   "outputs": [
    {
     "data": {
      "text/plain": [
       "[1, 4, 9, 16]"
      ]
     },
     "execution_count": 65,
     "metadata": {},
     "output_type": "execute_result"
    }
   ],
   "source": [
    "# map\n",
    "# map(func, iterable)\n",
    "\n",
    "# given a list print the list containing sqaure of the original.\n",
    "l = [1, 2, 3, 4]\n",
    "def sqare_list(l):\n",
    "    j = []\n",
    "    for i in l:\n",
    "        j.append(i**2)\n",
    "    return j\n",
    "sqare_list(l)"
   ]
  },
  {
   "cell_type": "code",
   "execution_count": 66,
   "id": "d0fbfbf7-5b53-4e6b-9ea6-dfb2d98d8373",
   "metadata": {},
   "outputs": [
    {
     "data": {
      "text/plain": [
       "[1, 4, 9, 16]"
      ]
     },
     "execution_count": 66,
     "metadata": {},
     "output_type": "execute_result"
    }
   ],
   "source": [
    "list(map(lambda a: a**2, l))"
   ]
  },
  {
   "cell_type": "code",
   "execution_count": 67,
   "id": "6330280b-1b69-4c80-a88b-47116462488f",
   "metadata": {},
   "outputs": [
    {
     "data": {
      "text/plain": [
       "[5, 5, 6, 6]"
      ]
     },
     "execution_count": 67,
     "metadata": {},
     "output_type": "execute_result"
    }
   ],
   "source": [
    "l = [\"apple\", \"mango\", \"cherry\", \"banana\"]\n",
    "list(map(len, l))"
   ]
  },
  {
   "cell_type": "code",
   "execution_count": 69,
   "id": "3974b67f-519b-41a3-a797-7c0023a85420",
   "metadata": {},
   "outputs": [
    {
     "name": "stdout",
     "output_type": "stream",
     "text": [
      "(1, 2, 3, 4)\n"
     ]
    },
    {
     "data": {
      "text/plain": [
       "10"
      ]
     },
     "execution_count": 69,
     "metadata": {},
     "output_type": "execute_result"
    }
   ],
   "source": [
    "def sum_calculator(*val):\n",
    "    print(val)\n",
    "    temp = 0\n",
    "    summ = 0\n",
    "    while temp < len(val):\n",
    "        summ += int(val[temp])\n",
    "        temp += 1\n",
    "    return summ\n",
    "sum_calculator(1, 2, 3 , 4)"
   ]
  },
  {
   "cell_type": "code",
   "execution_count": 70,
   "id": "fba87861-0755-4aed-9f62-e3ac28d21d37",
   "metadata": {},
   "outputs": [
    {
     "name": "stdin",
     "output_type": "stream",
     "text": [
      "Enter the numbers followed comma 1,2,5,4,6,7\n"
     ]
    }
   ],
   "source": [
    "s = input(\"Enter the numbers followed comma\")"
   ]
  },
  {
   "cell_type": "code",
   "execution_count": 71,
   "id": "abfef902-b6c7-4bd2-97da-6762407348ce",
   "metadata": {},
   "outputs": [
    {
     "data": {
      "text/plain": [
       "'1,2,5,4,6,7'"
      ]
     },
     "execution_count": 71,
     "metadata": {},
     "output_type": "execute_result"
    }
   ],
   "source": [
    "s"
   ]
  },
  {
   "cell_type": "code",
   "execution_count": 72,
   "id": "4e2edbb1-9dd0-4341-9ad9-e60c65f1ddaa",
   "metadata": {},
   "outputs": [],
   "source": [
    "s = s.split(\",\")"
   ]
  },
  {
   "cell_type": "code",
   "execution_count": 74,
   "id": "9ce8670c-fec5-4329-b58b-bc1c20d6840c",
   "metadata": {},
   "outputs": [
    {
     "name": "stdout",
     "output_type": "stream",
     "text": [
      "['1', '2', '5', '4', '6', '7']\n"
     ]
    }
   ],
   "source": [
    "print(s)"
   ]
  },
  {
   "cell_type": "code",
   "execution_count": 75,
   "id": "11b020f0-9592-49b3-991d-44c152edb26e",
   "metadata": {},
   "outputs": [
    {
     "name": "stdout",
     "output_type": "stream",
     "text": [
      "(['1', '2', '5', '4', '6', '7'],)\n"
     ]
    },
    {
     "ename": "TypeError",
     "evalue": "unsupported operand type(s) for +=: 'int' and 'list'",
     "output_type": "error",
     "traceback": [
      "\u001b[1;31m---------------------------------------------------------------------------\u001b[0m",
      "\u001b[1;31mTypeError\u001b[0m                                 Traceback (most recent call last)",
      "Cell \u001b[1;32mIn[75], line 1\u001b[0m\n\u001b[1;32m----> 1\u001b[0m \u001b[43msum_calculator\u001b[49m\u001b[43m(\u001b[49m\u001b[43ms\u001b[49m\u001b[43m)\u001b[49m\n",
      "Cell \u001b[1;32mIn[69], line 6\u001b[0m, in \u001b[0;36msum_calculator\u001b[1;34m(*val)\u001b[0m\n\u001b[0;32m      4\u001b[0m summ \u001b[38;5;241m=\u001b[39m \u001b[38;5;241m0\u001b[39m\n\u001b[0;32m      5\u001b[0m \u001b[38;5;28;01mwhile\u001b[39;00m temp \u001b[38;5;241m<\u001b[39m \u001b[38;5;28mlen\u001b[39m(val):\n\u001b[1;32m----> 6\u001b[0m     \u001b[43msumm\u001b[49m\u001b[43m \u001b[49m\u001b[38;5;241;43m+\u001b[39;49m\u001b[38;5;241;43m=\u001b[39;49m\u001b[43m \u001b[49m\u001b[43mval\u001b[49m\u001b[43m[\u001b[49m\u001b[43mtemp\u001b[49m\u001b[43m]\u001b[49m\n\u001b[0;32m      7\u001b[0m     temp \u001b[38;5;241m+\u001b[39m\u001b[38;5;241m=\u001b[39m \u001b[38;5;241m1\u001b[39m\n\u001b[0;32m      8\u001b[0m \u001b[38;5;28;01mreturn\u001b[39;00m summ\n",
      "\u001b[1;31mTypeError\u001b[0m: unsupported operand type(s) for +=: 'int' and 'list'"
     ]
    }
   ],
   "source": [
    "sum_calculator(s)"
   ]
  },
  {
   "cell_type": "code",
   "execution_count": 78,
   "id": "6c3cd4d0-d398-40f6-a4d9-717c9bc6086a",
   "metadata": {},
   "outputs": [
    {
     "name": "stdout",
     "output_type": "stream",
     "text": [
      "['1', '2', '5', '4', '6', '7']\n"
     ]
    },
    {
     "ename": "TypeError",
     "evalue": "unsupported operand type(s) for +=: 'int' and 'str'",
     "output_type": "error",
     "traceback": [
      "\u001b[1;31m---------------------------------------------------------------------------\u001b[0m",
      "\u001b[1;31mTypeError\u001b[0m                                 Traceback (most recent call last)",
      "Cell \u001b[1;32mIn[78], line 9\u001b[0m\n\u001b[0;32m      7\u001b[0m         temp \u001b[38;5;241m+\u001b[39m\u001b[38;5;241m=\u001b[39m \u001b[38;5;241m1\u001b[39m\n\u001b[0;32m      8\u001b[0m     \u001b[38;5;28;01mreturn\u001b[39;00m summ\n\u001b[1;32m----> 9\u001b[0m \u001b[43msum_calculator\u001b[49m\u001b[43m(\u001b[49m\u001b[43ms\u001b[49m\u001b[43m)\u001b[49m\n",
      "Cell \u001b[1;32mIn[78], line 6\u001b[0m, in \u001b[0;36msum_calculator\u001b[1;34m(val)\u001b[0m\n\u001b[0;32m      4\u001b[0m summ \u001b[38;5;241m=\u001b[39m \u001b[38;5;241m0\u001b[39m\n\u001b[0;32m      5\u001b[0m \u001b[38;5;28;01mwhile\u001b[39;00m temp \u001b[38;5;241m<\u001b[39m \u001b[38;5;28mlen\u001b[39m(val):\n\u001b[1;32m----> 6\u001b[0m     \u001b[43msumm\u001b[49m\u001b[43m \u001b[49m\u001b[38;5;241;43m+\u001b[39;49m\u001b[38;5;241;43m=\u001b[39;49m\u001b[43m \u001b[49m\u001b[43mval\u001b[49m\u001b[43m[\u001b[49m\u001b[43mtemp\u001b[49m\u001b[43m]\u001b[49m\n\u001b[0;32m      7\u001b[0m     temp \u001b[38;5;241m+\u001b[39m\u001b[38;5;241m=\u001b[39m \u001b[38;5;241m1\u001b[39m\n\u001b[0;32m      8\u001b[0m \u001b[38;5;28;01mreturn\u001b[39;00m summ\n",
      "\u001b[1;31mTypeError\u001b[0m: unsupported operand type(s) for +=: 'int' and 'str'"
     ]
    }
   ],
   "source": [
    "def sum_calculator(val):\n",
    "    print(val)\n",
    "    temp = 0\n",
    "    summ = 0\n",
    "    while temp < len(val):\n",
    "        summ += val[temp]\n",
    "        temp += 1\n",
    "    return summ\n",
    "sum_calculator(s)"
   ]
  },
  {
   "cell_type": "code",
   "execution_count": 81,
   "id": "dd243840-92dc-4269-9447-a9d1dcf8f2e3",
   "metadata": {},
   "outputs": [
    {
     "name": "stdin",
     "output_type": "stream",
     "text": [
      "Enter the numbers followed comma 1,2,5,4,7,10\n"
     ]
    }
   ],
   "source": [
    "s = input(\"Enter the numbers followed comma\").split(\",\")  # it a list of numbers in string\n",
    "s = list(map(int, s))"
   ]
  },
  {
   "cell_type": "code",
   "execution_count": 82,
   "id": "98dd6ea2-3e6c-48a0-b914-854b9d8adea1",
   "metadata": {},
   "outputs": [
    {
     "data": {
      "text/plain": [
       "[1, 2, 5, 4, 7, 10]"
      ]
     },
     "execution_count": 82,
     "metadata": {},
     "output_type": "execute_result"
    }
   ],
   "source": [
    "s"
   ]
  },
  {
   "cell_type": "code",
   "execution_count": 83,
   "id": "ef7da8bb-f3a3-4d7e-ad5e-4f5b0f660790",
   "metadata": {},
   "outputs": [
    {
     "name": "stdin",
     "output_type": "stream",
     "text": [
      "Enter the numbers followed by comma 1,2,3,4,5\n"
     ]
    }
   ],
   "source": [
    "s = list(map(int, input(\"Enter the numbers followed by comma\").split(\",\")))"
   ]
  },
  {
   "cell_type": "code",
   "execution_count": 84,
   "id": "f9b4796f-7d2c-41a2-bff9-b80f1d122d4e",
   "metadata": {},
   "outputs": [
    {
     "name": "stdout",
     "output_type": "stream",
     "text": [
      "[1, 2, 3, 4, 5]\n"
     ]
    },
    {
     "data": {
      "text/plain": [
       "15"
      ]
     },
     "execution_count": 84,
     "metadata": {},
     "output_type": "execute_result"
    }
   ],
   "source": [
    "sum_calculator(s)"
   ]
  },
  {
   "cell_type": "code",
   "execution_count": 88,
   "id": "2727e565-f8ea-4472-86f2-1ed78ac12579",
   "metadata": {},
   "outputs": [],
   "source": [
    "# filter\n",
    "l = [0, 1, -9, 5, -23]\n",
    "def filter_positive(x):\n",
    "    if x >= 0:\n",
    "        return True\n",
    "    else:\n",
    "        return False\n",
    "val = filter(filter_positive, l)"
   ]
  },
  {
   "cell_type": "code",
   "execution_count": 89,
   "id": "8957157b-8c46-45af-afb3-4d7444de2ae7",
   "metadata": {},
   "outputs": [
    {
     "data": {
      "text/plain": [
       "<filter at 0x2b0851052d0>"
      ]
     },
     "execution_count": 89,
     "metadata": {},
     "output_type": "execute_result"
    }
   ],
   "source": [
    "val"
   ]
  },
  {
   "cell_type": "code",
   "execution_count": 90,
   "id": "0b7fd0ee-f424-4972-9f43-c398a67fcbeb",
   "metadata": {},
   "outputs": [
    {
     "data": {
      "text/plain": [
       "[0, 1, 5]"
      ]
     },
     "execution_count": 90,
     "metadata": {},
     "output_type": "execute_result"
    }
   ],
   "source": [
    "list(val)"
   ]
  },
  {
   "cell_type": "code",
   "execution_count": 92,
   "id": "3fe29b13-6dd1-47d0-b48b-7bdf85a3fc5c",
   "metadata": {},
   "outputs": [
    {
     "data": {
      "text/plain": [
       "['cherry', 'banana']"
      ]
     },
     "execution_count": 92,
     "metadata": {},
     "output_type": "execute_result"
    }
   ],
   "source": [
    "l = [\"apple\", \"mango\", \"cherry\", \"banana\"]\n",
    "list(filter(lambda x: len(x)>5, l))"
   ]
  },
  {
   "cell_type": "code",
   "execution_count": null,
   "id": "48e370e2-cc50-4686-bbe4-1c11b7dac3f7",
   "metadata": {},
   "outputs": [],
   "source": [
    "lambda a, b: a+b\n",
    "map(func, iterable) --> iterable object\n",
    "filter(func, iterble) --> iterbale object"
   ]
  },
  {
   "cell_type": "code",
   "execution_count": 93,
   "id": "a5b1c1d6-043e-461b-9641-e80266068558",
   "metadata": {},
   "outputs": [
    {
     "name": "stdout",
     "output_type": "stream",
     "text": [
      "cherry\n",
      "banana\n"
     ]
    }
   ],
   "source": [
    "for i in filter(lambda x: len(x)>5, l):\n",
    "    print(i)"
   ]
  },
  {
   "cell_type": "code",
   "execution_count": 94,
   "id": "3abf63c6-c978-4690-87e7-2d0c8cc935aa",
   "metadata": {},
   "outputs": [
    {
     "name": "stdout",
     "output_type": "stream",
     "text": [
      "False\n",
      "False\n",
      "True\n",
      "True\n"
     ]
    }
   ],
   "source": [
    "for i in map(lambda x: len(x)>5, l):\n",
    "    print(i)"
   ]
  },
  {
   "cell_type": "code",
   "execution_count": null,
   "id": "d5acde48-99eb-4f92-9c39-d8fa98905fe5",
   "metadata": {},
   "outputs": [],
   "source": []
  }
 ],
 "metadata": {
  "kernelspec": {
   "display_name": "Python 3 (ipykernel)",
   "language": "python",
   "name": "python3"
  },
  "language_info": {
   "codemirror_mode": {
    "name": "ipython",
    "version": 3
   },
   "file_extension": ".py",
   "mimetype": "text/x-python",
   "name": "python",
   "nbconvert_exporter": "python",
   "pygments_lexer": "ipython3",
   "version": "3.13.0"
  }
 },
 "nbformat": 4,
 "nbformat_minor": 5
}
