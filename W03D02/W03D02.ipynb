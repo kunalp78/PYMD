{
 "cells": [
  {
   "cell_type": "code",
   "execution_count": 26,
   "id": "5d008d91-6c22-415a-b284-725e93069cf2",
   "metadata": {},
   "outputs": [],
   "source": [
    "# 1. in object method the first parameter is the object reference\n",
    "# 2. Class reference has no access to the object method\n",
    "\n",
    "class Car:\n",
    "    wheels = 4\n",
    "    def __init__(self, brand, speed):\n",
    "        self.brand = brand\n",
    "        self.speed = speed\n",
    "\n",
    "    def set_speed(pos, speed):\n",
    "        if pos.speed + speed < 120:\n",
    "            pos.speed += speed\n",
    "            return True\n",
    "        else:\n",
    "            print(\"we have reached the speed limit!\")\n",
    "            return False\n",
    "\n",
    "    def get_speed(self):\n",
    "        return self.speed\n",
    "\n",
    "    @classmethod\n",
    "    def get_wheel_cout(cls):\n",
    "        return cls.wheels\n",
    "\n",
    "    @classmethod\n",
    "    def set_wheel_count(cls, wheels):\n",
    "        if wheels >= 3:\n",
    "            cls.wheels = wheels\n",
    "        else:\n",
    "            print(\"Minimum number of wheel should be 3\")"
   ]
  },
  {
   "cell_type": "code",
   "execution_count": 27,
   "id": "55084727-8d80-4b80-8907-4950ca6396e5",
   "metadata": {},
   "outputs": [],
   "source": [
    "car1 = Car(\"Tata\", 100)"
   ]
  },
  {
   "cell_type": "code",
   "execution_count": 28,
   "id": "124c354c-8818-4913-838a-2a9759b72892",
   "metadata": {},
   "outputs": [],
   "source": [
    "speed = car1.get_speed()"
   ]
  },
  {
   "cell_type": "code",
   "execution_count": 29,
   "id": "d0968b51-e0ae-4687-a56f-7b5df9e4f205",
   "metadata": {},
   "outputs": [
    {
     "name": "stdout",
     "output_type": "stream",
     "text": [
      "100\n"
     ]
    }
   ],
   "source": [
    "print(speed)"
   ]
  },
  {
   "cell_type": "code",
   "execution_count": 30,
   "id": "4c1bfd17-17b7-475b-a7c7-cb22c10bf391",
   "metadata": {},
   "outputs": [
    {
     "name": "stdout",
     "output_type": "stream",
     "text": [
      "we have reached the speed limit!\n"
     ]
    },
    {
     "data": {
      "text/plain": [
       "False"
      ]
     },
     "execution_count": 30,
     "metadata": {},
     "output_type": "execute_result"
    }
   ],
   "source": [
    "car1.set_speed(120)"
   ]
  },
  {
   "cell_type": "code",
   "execution_count": 31,
   "id": "dd9d7609-3635-4e53-8092-1d1194d23ff3",
   "metadata": {},
   "outputs": [
    {
     "data": {
      "text/plain": [
       "True"
      ]
     },
     "execution_count": 31,
     "metadata": {},
     "output_type": "execute_result"
    }
   ],
   "source": [
    "car1.set_speed(10)"
   ]
  },
  {
   "cell_type": "code",
   "execution_count": 32,
   "id": "b19ab1ec-61c2-44a8-87e5-777d05576492",
   "metadata": {},
   "outputs": [
    {
     "data": {
      "text/plain": [
       "110"
      ]
     },
     "execution_count": 32,
     "metadata": {},
     "output_type": "execute_result"
    }
   ],
   "source": [
    "car1.get_speed()"
   ]
  },
  {
   "cell_type": "code",
   "execution_count": 33,
   "id": "b53e5863-24e6-4bfb-bfbb-cc500e17652b",
   "metadata": {},
   "outputs": [
    {
     "data": {
      "text/plain": [
       "4"
      ]
     },
     "execution_count": 33,
     "metadata": {},
     "output_type": "execute_result"
    }
   ],
   "source": [
    "Car.get_wheel_cout()"
   ]
  },
  {
   "cell_type": "code",
   "execution_count": 34,
   "id": "adc851af-7c9c-49aa-9849-ee796cda51af",
   "metadata": {},
   "outputs": [
    {
     "name": "stdout",
     "output_type": "stream",
     "text": [
      "Minimum number of wheel should be 3\n"
     ]
    }
   ],
   "source": [
    "Car.set_wheel_count(2)"
   ]
  },
  {
   "cell_type": "code",
   "execution_count": 35,
   "id": "cc8e3641-daac-4331-a8d2-efd7836fdad4",
   "metadata": {},
   "outputs": [],
   "source": [
    "car2 = Car(\"Maruti\", 50)"
   ]
  },
  {
   "cell_type": "code",
   "execution_count": 36,
   "id": "1b766d4f-c682-4150-a58c-9492f8482511",
   "metadata": {},
   "outputs": [
    {
     "data": {
      "text/plain": [
       "4"
      ]
     },
     "execution_count": 36,
     "metadata": {},
     "output_type": "execute_result"
    }
   ],
   "source": [
    "car2.get_wheel_cout()"
   ]
  },
  {
   "cell_type": "code",
   "execution_count": 38,
   "id": "af9f7bb0-c543-4781-8f6d-33c7bca4eee9",
   "metadata": {},
   "outputs": [
    {
     "data": {
      "text/plain": [
       "110"
      ]
     },
     "execution_count": 38,
     "metadata": {},
     "output_type": "execute_result"
    }
   ],
   "source": [
    "Car.get_speed(car1)"
   ]
  },
  {
   "cell_type": "code",
   "execution_count": 39,
   "id": "c3f8d1b6-f215-4315-8482-64efd9796003",
   "metadata": {},
   "outputs": [
    {
     "data": {
      "text/plain": [
       "50"
      ]
     },
     "execution_count": 39,
     "metadata": {},
     "output_type": "execute_result"
    }
   ],
   "source": [
    "Car.get_speed(car2)"
   ]
  },
  {
   "cell_type": "code",
   "execution_count": 40,
   "id": "7774e248-dbf6-46be-be6e-9503c5cd1fca",
   "metadata": {},
   "outputs": [],
   "source": [
    "Car.set_wheel_count(5)"
   ]
  },
  {
   "cell_type": "code",
   "execution_count": 41,
   "id": "77162845-b473-46fb-ab20-20e257de0dc5",
   "metadata": {},
   "outputs": [
    {
     "data": {
      "text/plain": [
       "5"
      ]
     },
     "execution_count": 41,
     "metadata": {},
     "output_type": "execute_result"
    }
   ],
   "source": [
    "car2.get_wheel_cout()"
   ]
  },
  {
   "cell_type": "code",
   "execution_count": 42,
   "id": "5e0badf6-f818-472b-aeb5-3899e648db76",
   "metadata": {},
   "outputs": [
    {
     "data": {
      "text/plain": [
       "5"
      ]
     },
     "execution_count": 42,
     "metadata": {},
     "output_type": "execute_result"
    }
   ],
   "source": [
    "car1.get_wheel_cout()"
   ]
  },
  {
   "cell_type": "code",
   "execution_count": 43,
   "id": "60185e25-1da2-430d-b474-fb6bd95310fc",
   "metadata": {},
   "outputs": [
    {
     "ename": "TypeError",
     "evalue": "Car.get_speed() missing 1 required positional argument: 'self'",
     "output_type": "error",
     "traceback": [
      "\u001b[1;31m---------------------------------------------------------------------------\u001b[0m",
      "\u001b[1;31mTypeError\u001b[0m                                 Traceback (most recent call last)",
      "Cell \u001b[1;32mIn[43], line 1\u001b[0m\n\u001b[1;32m----> 1\u001b[0m \u001b[43mCar\u001b[49m\u001b[38;5;241;43m.\u001b[39;49m\u001b[43mget_speed\u001b[49m\u001b[43m(\u001b[49m\u001b[43m)\u001b[49m\n",
      "\u001b[1;31mTypeError\u001b[0m: Car.get_speed() missing 1 required positional argument: 'self'"
     ]
    }
   ],
   "source": [
    "Car.get_speed()"
   ]
  },
  {
   "cell_type": "code",
   "execution_count": 44,
   "id": "45fb4c0b-803c-4a8b-983f-a804215f2008",
   "metadata": {},
   "outputs": [
    {
     "data": {
      "text/plain": [
       "110"
      ]
     },
     "execution_count": 44,
     "metadata": {},
     "output_type": "execute_result"
    }
   ],
   "source": [
    "Car.get_speed(car1)"
   ]
  },
  {
   "cell_type": "code",
   "execution_count": null,
   "id": "9960292e-7c86-4e1a-9315-0f9ebbf34167",
   "metadata": {},
   "outputs": [],
   "source": [
    "Single inheritence:\n",
    "Parent --> Child\n",
    "\n",
    "Multilevel inheritence:\n",
    "A --> B --> C\n",
    "\n",
    "Hierarichal inheritence:\n",
    "       A\n",
    "       |\n",
    "-------------------\n",
    "|     |     |     |\n",
    "B     C     D     E\n",
    "\n",
    "Multiple inheritence:\n",
    "A   B\n",
    "|   |\n",
    "-----\n",
    "  |\n",
    "  C\n",
    "\n",
    "Hybrid inheritence:\n",
    "      A\n",
    "      |\n",
    "  ----------\n",
    "  |        |\n",
    "  B        C\n",
    "  ----------\n",
    "      |\n",
    "      D"
   ]
  },
  {
   "cell_type": "code",
   "execution_count": 48,
   "id": "f7c38849-1513-41db-92e4-5c98318e8d08",
   "metadata": {},
   "outputs": [],
   "source": [
    "class A:\n",
    "    def __init__(self, a, b):\n",
    "        self.a = a\n",
    "        self.b = b\n",
    "        print(\"I am in A\")\n",
    "\n",
    "class B(A):\n",
    "    def __init__(self, c, a, b):\n",
    "        self.c = c\n",
    "        super().__init__(a, b)\n",
    "        print(\"I am in B\")\n",
    "\n",
    "class C(B):\n",
    "    def print_vals(self):\n",
    "        print(self.c)\n",
    "        print(f\"This is coming from class A {self.a}\")\n",
    "        print(\"This is coming from the class A: {}\".format(self.b))\n"
   ]
  },
  {
   "cell_type": "code",
   "execution_count": 49,
   "id": "48cc5d73-e092-4cbf-af51-39c4b030ac40",
   "metadata": {},
   "outputs": [
    {
     "name": "stdout",
     "output_type": "stream",
     "text": [
      "I am in A\n",
      "I am in B\n"
     ]
    }
   ],
   "source": [
    "obj1 = C(1, 2, 3)"
   ]
  },
  {
   "cell_type": "code",
   "execution_count": 50,
   "id": "c859d7ce-f388-44d5-96b2-db0abb683636",
   "metadata": {},
   "outputs": [
    {
     "name": "stdout",
     "output_type": "stream",
     "text": [
      "1\n",
      "This is coming from class A 2\n",
      "This is coming from the class A: 3\n"
     ]
    }
   ],
   "source": [
    "obj1.print_vals()"
   ]
  },
  {
   "cell_type": "code",
   "execution_count": null,
   "id": "53341983-ccbe-4cbe-8919-9e87bd4be566",
   "metadata": {},
   "outputs": [],
   "source": [
    "method resolution order: C --> B --> A"
   ]
  },
  {
   "cell_type": "code",
   "execution_count": null,
   "id": "39fe497e-5e04-4d5c-bfd3-247f930c8176",
   "metadata": {},
   "outputs": [],
   "source": []
  },
  {
   "cell_type": "code",
   "execution_count": null,
   "id": "9a810c2d-ae3e-4557-a293-4eca02737d66",
   "metadata": {},
   "outputs": [],
   "source": []
  },
  {
   "cell_type": "markdown",
   "id": "974d3c59-b269-432d-bd01-f9d800b7bf54",
   "metadata": {},
   "source": [
    "# File Handling"
   ]
  },
  {
   "cell_type": "code",
   "execution_count": 51,
   "id": "3d221871-94bd-4aad-af2f-3789a2c381ae",
   "metadata": {},
   "outputs": [],
   "source": [
    "# read operation\n",
    "# it doesnot creates a new file\n",
    "fp = open(\"file1.txt\", \"r\")"
   ]
  },
  {
   "cell_type": "code",
   "execution_count": 52,
   "id": "af176e04-5477-43a0-b422-57fa4a3e92d2",
   "metadata": {},
   "outputs": [
    {
     "name": "stdout",
     "output_type": "stream",
     "text": [
      "<_io.TextIOWrapper name='file1.txt' mode='r' encoding='cp1252'>\n"
     ]
    }
   ],
   "source": [
    "print(fp)"
   ]
  },
  {
   "cell_type": "code",
   "execution_count": 53,
   "id": "6a3ef801-b8c6-4e38-8c8c-189e63bfeaa2",
   "metadata": {},
   "outputs": [
    {
     "name": "stdout",
     "output_type": "stream",
     "text": [
      "Hey I am content of file 1\n"
     ]
    }
   ],
   "source": [
    "print(fp.read())"
   ]
  },
  {
   "cell_type": "code",
   "execution_count": 54,
   "id": "9596eb96-2b23-4643-8ce5-437f3c4a7eaf",
   "metadata": {},
   "outputs": [
    {
     "data": {
      "text/plain": [
       "''"
      ]
     },
     "execution_count": 54,
     "metadata": {},
     "output_type": "execute_result"
    }
   ],
   "source": [
    "fp.read()"
   ]
  },
  {
   "cell_type": "code",
   "execution_count": 55,
   "id": "f20710de-dd5c-4073-b792-29bda53f76a5",
   "metadata": {},
   "outputs": [
    {
     "data": {
      "text/plain": [
       "26"
      ]
     },
     "execution_count": 55,
     "metadata": {},
     "output_type": "execute_result"
    }
   ],
   "source": [
    "fp.tell()"
   ]
  },
  {
   "cell_type": "code",
   "execution_count": 56,
   "id": "6385cca9-9bca-4d7e-ae37-873bec8a211c",
   "metadata": {},
   "outputs": [
    {
     "data": {
      "text/plain": [
       "0"
      ]
     },
     "execution_count": 56,
     "metadata": {},
     "output_type": "execute_result"
    }
   ],
   "source": [
    "fp.seek(0)"
   ]
  },
  {
   "cell_type": "code",
   "execution_count": 57,
   "id": "8c9e1434-a372-4787-beb6-62148c088c04",
   "metadata": {},
   "outputs": [
    {
     "data": {
      "text/plain": [
       "'Hey I am content of file 1'"
      ]
     },
     "execution_count": 57,
     "metadata": {},
     "output_type": "execute_result"
    }
   ],
   "source": [
    "fp.read()"
   ]
  },
  {
   "cell_type": "code",
   "execution_count": 58,
   "id": "ce1210a8-4ef1-409c-a8b6-739be77724a6",
   "metadata": {},
   "outputs": [
    {
     "data": {
      "text/plain": [
       "0"
      ]
     },
     "execution_count": 58,
     "metadata": {},
     "output_type": "execute_result"
    }
   ],
   "source": [
    "fp.seek(0)"
   ]
  },
  {
   "cell_type": "code",
   "execution_count": 59,
   "id": "daba7093-8763-4c43-9a34-ad19df8899b9",
   "metadata": {},
   "outputs": [],
   "source": [
    "content = fp.read()"
   ]
  },
  {
   "cell_type": "code",
   "execution_count": 60,
   "id": "459f4c5b-5193-46a4-94c3-7868f1074b54",
   "metadata": {},
   "outputs": [
    {
     "data": {
      "text/plain": [
       "26"
      ]
     },
     "execution_count": 60,
     "metadata": {},
     "output_type": "execute_result"
    }
   ],
   "source": [
    "fp.tell()"
   ]
  },
  {
   "cell_type": "code",
   "execution_count": 61,
   "id": "463895e5-01ea-43dc-8495-577d5ea7fa31",
   "metadata": {},
   "outputs": [
    {
     "name": "stdout",
     "output_type": "stream",
     "text": [
      "Hey I am content of file 1\n"
     ]
    }
   ],
   "source": [
    "print(content)"
   ]
  },
  {
   "cell_type": "code",
   "execution_count": 62,
   "id": "a0dd0a6b-245e-4d29-bec2-b86020525b1d",
   "metadata": {},
   "outputs": [
    {
     "name": "stdout",
     "output_type": "stream",
     "text": [
      "Hey I am content of file 1\n"
     ]
    }
   ],
   "source": [
    "print(content)"
   ]
  },
  {
   "cell_type": "code",
   "execution_count": 63,
   "id": "80786c41-6796-47d9-bc54-96a97c98d940",
   "metadata": {},
   "outputs": [
    {
     "data": {
      "text/plain": [
       "'Hey I am Content of file 1'"
      ]
     },
     "execution_count": 63,
     "metadata": {},
     "output_type": "execute_result"
    }
   ],
   "source": [
    "content.replace(\"content\", \"Content\")"
   ]
  },
  {
   "cell_type": "code",
   "execution_count": 64,
   "id": "537f26a6-87fb-424e-9a58-af6880ab7e48",
   "metadata": {},
   "outputs": [],
   "source": [
    "l = content.split(\" \")"
   ]
  },
  {
   "cell_type": "code",
   "execution_count": 65,
   "id": "9e13567c-a87f-4d53-a2e9-f3ad555bfb88",
   "metadata": {},
   "outputs": [
    {
     "data": {
      "text/plain": [
       "['Hey', 'I', 'am', 'content', 'of', 'file', '1']"
      ]
     },
     "execution_count": 65,
     "metadata": {},
     "output_type": "execute_result"
    }
   ],
   "source": [
    "l"
   ]
  },
  {
   "cell_type": "code",
   "execution_count": 67,
   "id": "24798d9e-11f7-41a8-ae61-fd57c8c1d34e",
   "metadata": {},
   "outputs": [
    {
     "name": "stdout",
     "output_type": "stream",
     "text": [
      "['Hey', 'I', 'am', 'Content', 'of', 'file', '1']\n"
     ]
    }
   ],
   "source": [
    "for i in range(len(l)):\n",
    "    if l[i] == \"content\":\n",
    "        l[i] = \"Content\"\n",
    "print(l)"
   ]
  },
  {
   "cell_type": "code",
   "execution_count": 68,
   "id": "55f45195-09fb-4497-ae80-41480f6bbd7f",
   "metadata": {},
   "outputs": [],
   "source": [
    "content = \" \".join(l)"
   ]
  },
  {
   "cell_type": "code",
   "execution_count": 69,
   "id": "2a5db8c9-d857-4949-bbd8-b130d73c044d",
   "metadata": {},
   "outputs": [
    {
     "data": {
      "text/plain": [
       "'Hey I am Content of file 1'"
      ]
     },
     "execution_count": 69,
     "metadata": {},
     "output_type": "execute_result"
    }
   ],
   "source": [
    "content"
   ]
  },
  {
   "cell_type": "code",
   "execution_count": 70,
   "id": "3401c766-ff85-4ac3-8bb8-9afa0cc22e22",
   "metadata": {},
   "outputs": [
    {
     "data": {
      "text/plain": [
       "'HeyIamContentoffile1'"
      ]
     },
     "execution_count": 70,
     "metadata": {},
     "output_type": "execute_result"
    }
   ],
   "source": [
    "\"\".join(l)"
   ]
  },
  {
   "cell_type": "code",
   "execution_count": 72,
   "id": "28cfcca8-14d5-4e2c-85e1-fd21ae5c51aa",
   "metadata": {},
   "outputs": [],
   "source": [
    "s = \"fsfsfs2165465ds 15454545\"\n",
    "s = s.replace(\" \", \"\")"
   ]
  },
  {
   "cell_type": "code",
   "execution_count": 73,
   "id": "7f931ca0-4dc1-4f20-91bb-211831bceeee",
   "metadata": {},
   "outputs": [
    {
     "name": "stdout",
     "output_type": "stream",
     "text": [
      "fsfsfs2165465ds15454545\n"
     ]
    }
   ],
   "source": [
    "print(s)"
   ]
  },
  {
   "cell_type": "code",
   "execution_count": 74,
   "id": "240b6bad-fec9-4f15-bf85-1d7b9c41cff9",
   "metadata": {},
   "outputs": [],
   "source": [
    "fp.close()"
   ]
  },
  {
   "cell_type": "code",
   "execution_count": 76,
   "id": "318a5c7b-cb98-4ab2-b2e4-53ee4773f394",
   "metadata": {},
   "outputs": [
    {
     "ename": "ValueError",
     "evalue": "I/O operation on closed file.",
     "output_type": "error",
     "traceback": [
      "\u001b[1;31m---------------------------------------------------------------------------\u001b[0m",
      "\u001b[1;31mValueError\u001b[0m                                Traceback (most recent call last)",
      "Cell \u001b[1;32mIn[76], line 1\u001b[0m\n\u001b[1;32m----> 1\u001b[0m \u001b[43mfp\u001b[49m\u001b[38;5;241;43m.\u001b[39;49m\u001b[43mread\u001b[49m\u001b[43m(\u001b[49m\u001b[43m)\u001b[49m\n",
      "\u001b[1;31mValueError\u001b[0m: I/O operation on closed file."
     ]
    }
   ],
   "source": [
    "fp.read()"
   ]
  },
  {
   "cell_type": "code",
   "execution_count": 89,
   "id": "8429938e-e7d6-4339-a728-6fc1b6e3f0db",
   "metadata": {},
   "outputs": [
    {
     "ename": "FileNotFoundError",
     "evalue": "[Errno 2] No such file or directory: 'file23.json'",
     "output_type": "error",
     "traceback": [
      "\u001b[1;31m---------------------------------------------------------------------------\u001b[0m",
      "\u001b[1;31mFileNotFoundError\u001b[0m                         Traceback (most recent call last)",
      "Cell \u001b[1;32mIn[89], line 1\u001b[0m\n\u001b[1;32m----> 1\u001b[0m f \u001b[38;5;241m=\u001b[39m \u001b[38;5;28;43mopen\u001b[39;49m\u001b[43m(\u001b[49m\u001b[38;5;124;43m\"\u001b[39;49m\u001b[38;5;124;43mfile23.json\u001b[39;49m\u001b[38;5;124;43m\"\u001b[39;49m\u001b[43m,\u001b[49m\u001b[43m \u001b[49m\u001b[38;5;124;43m\"\u001b[39;49m\u001b[38;5;124;43mr\u001b[39;49m\u001b[38;5;124;43m\"\u001b[39;49m\u001b[43m)\u001b[49m\n",
      "File \u001b[1;32mF:\\PYMD\\env\\Lib\\site-packages\\IPython\\core\\interactiveshell.py:324\u001b[0m, in \u001b[0;36m_modified_open\u001b[1;34m(file, *args, **kwargs)\u001b[0m\n\u001b[0;32m    317\u001b[0m \u001b[38;5;28;01mif\u001b[39;00m file \u001b[38;5;129;01min\u001b[39;00m {\u001b[38;5;241m0\u001b[39m, \u001b[38;5;241m1\u001b[39m, \u001b[38;5;241m2\u001b[39m}:\n\u001b[0;32m    318\u001b[0m     \u001b[38;5;28;01mraise\u001b[39;00m \u001b[38;5;167;01mValueError\u001b[39;00m(\n\u001b[0;32m    319\u001b[0m         \u001b[38;5;124mf\u001b[39m\u001b[38;5;124m\"\u001b[39m\u001b[38;5;124mIPython won\u001b[39m\u001b[38;5;124m'\u001b[39m\u001b[38;5;124mt let you open fd=\u001b[39m\u001b[38;5;132;01m{\u001b[39;00mfile\u001b[38;5;132;01m}\u001b[39;00m\u001b[38;5;124m by default \u001b[39m\u001b[38;5;124m\"\u001b[39m\n\u001b[0;32m    320\u001b[0m         \u001b[38;5;124m\"\u001b[39m\u001b[38;5;124mas it is likely to crash IPython. If you know what you are doing, \u001b[39m\u001b[38;5;124m\"\u001b[39m\n\u001b[0;32m    321\u001b[0m         \u001b[38;5;124m\"\u001b[39m\u001b[38;5;124myou can use builtins\u001b[39m\u001b[38;5;124m'\u001b[39m\u001b[38;5;124m open.\u001b[39m\u001b[38;5;124m\"\u001b[39m\n\u001b[0;32m    322\u001b[0m     )\n\u001b[1;32m--> 324\u001b[0m \u001b[38;5;28;01mreturn\u001b[39;00m \u001b[43mio_open\u001b[49m\u001b[43m(\u001b[49m\u001b[43mfile\u001b[49m\u001b[43m,\u001b[49m\u001b[43m \u001b[49m\u001b[38;5;241;43m*\u001b[39;49m\u001b[43margs\u001b[49m\u001b[43m,\u001b[49m\u001b[43m \u001b[49m\u001b[38;5;241;43m*\u001b[39;49m\u001b[38;5;241;43m*\u001b[39;49m\u001b[43mkwargs\u001b[49m\u001b[43m)\u001b[49m\n",
      "\u001b[1;31mFileNotFoundError\u001b[0m: [Errno 2] No such file or directory: 'file23.json'"
     ]
    }
   ],
   "source": [
    "f = open(\"file23.json\", \"r\")"
   ]
  },
  {
   "cell_type": "code",
   "execution_count": null,
   "id": "2e454f70-a5b8-4718-b7e1-eb44c4d9d0dd",
   "metadata": {},
   "outputs": [],
   "source": []
  },
  {
   "cell_type": "code",
   "execution_count": null,
   "id": "268a4859-5944-4c8b-be8d-54cfa363b403",
   "metadata": {},
   "outputs": [],
   "source": []
  },
  {
   "cell_type": "code",
   "execution_count": null,
   "id": "d144fc7e-9b07-48c2-9e9c-501c12d21dab",
   "metadata": {},
   "outputs": [],
   "source": []
  },
  {
   "cell_type": "code",
   "execution_count": null,
   "id": "4996f347-c67b-40e0-a935-988a059b5e4a",
   "metadata": {},
   "outputs": [],
   "source": []
  },
  {
   "cell_type": "code",
   "execution_count": 77,
   "id": "a74dae80-df67-4e62-b735-743d738bd0aa",
   "metadata": {},
   "outputs": [],
   "source": [
    "# write operation\n",
    "# when you open a file using write operation, \n",
    "# it deletes the content of existing file or creates a new file then open it using write operation\n",
    "fp = open(\"filewo.txt\", \"w\")"
   ]
  },
  {
   "cell_type": "code",
   "execution_count": 78,
   "id": "56522048-daf8-4717-bc47-edb6495ead90",
   "metadata": {},
   "outputs": [
    {
     "data": {
      "text/plain": [
       "0"
      ]
     },
     "execution_count": 78,
     "metadata": {},
     "output_type": "execute_result"
    }
   ],
   "source": [
    "fp.tell()"
   ]
  },
  {
   "cell_type": "code",
   "execution_count": 79,
   "id": "93196aac-3355-4478-beec-8a1131a0f7c9",
   "metadata": {},
   "outputs": [
    {
     "data": {
      "text/plain": [
       "23"
      ]
     },
     "execution_count": 79,
     "metadata": {},
     "output_type": "execute_result"
    }
   ],
   "source": [
    "fp.write(s)"
   ]
  },
  {
   "cell_type": "code",
   "execution_count": 80,
   "id": "55175221-6752-439a-af87-e956422bfb36",
   "metadata": {},
   "outputs": [
    {
     "data": {
      "text/plain": [
       "23"
      ]
     },
     "execution_count": 80,
     "metadata": {},
     "output_type": "execute_result"
    }
   ],
   "source": [
    "fp.tell()"
   ]
  },
  {
   "cell_type": "code",
   "execution_count": 81,
   "id": "70066d7a-df3e-47ea-a3ac-84d8a96b3e0b",
   "metadata": {},
   "outputs": [],
   "source": [
    "fp.close()"
   ]
  },
  {
   "cell_type": "code",
   "execution_count": 82,
   "id": "c0192da9-4f44-4272-a62e-d65659b6ae57",
   "metadata": {},
   "outputs": [],
   "source": [
    "fp = open(\"filewo.txt\", \"w\")"
   ]
  },
  {
   "cell_type": "code",
   "execution_count": 83,
   "id": "d1cbfcb6-d392-4408-b9bc-c2c49f9da6a2",
   "metadata": {},
   "outputs": [
    {
     "data": {
      "text/plain": [
       "0"
      ]
     },
     "execution_count": 83,
     "metadata": {},
     "output_type": "execute_result"
    }
   ],
   "source": [
    "fp.tell()"
   ]
  },
  {
   "cell_type": "code",
   "execution_count": 84,
   "id": "8e6fef85-9a38-4b54-8884-0899be6b3dec",
   "metadata": {},
   "outputs": [
    {
     "data": {
      "text/plain": [
       "26"
      ]
     },
     "execution_count": 84,
     "metadata": {},
     "output_type": "execute_result"
    }
   ],
   "source": [
    "fp.write(content)"
   ]
  },
  {
   "cell_type": "code",
   "execution_count": 85,
   "id": "15434802-8d75-4604-9f4a-8b12d7fd3dde",
   "metadata": {},
   "outputs": [
    {
     "data": {
      "text/plain": [
       "26"
      ]
     },
     "execution_count": 85,
     "metadata": {},
     "output_type": "execute_result"
    }
   ],
   "source": [
    "fp.tell()"
   ]
  },
  {
   "cell_type": "code",
   "execution_count": 86,
   "id": "9f1b2df7-fdf4-4c89-ad6c-b59fe4c9d39b",
   "metadata": {},
   "outputs": [
    {
     "data": {
      "text/plain": [
       "1"
      ]
     },
     "execution_count": 86,
     "metadata": {},
     "output_type": "execute_result"
    }
   ],
   "source": [
    "fp.write(\"\\r\")"
   ]
  },
  {
   "cell_type": "code",
   "execution_count": 87,
   "id": "7deba6d7-44e9-40e9-b8e3-f3da9981b5ed",
   "metadata": {},
   "outputs": [
    {
     "data": {
      "text/plain": [
       "23"
      ]
     },
     "execution_count": 87,
     "metadata": {},
     "output_type": "execute_result"
    }
   ],
   "source": [
    "fp.write(s)"
   ]
  },
  {
   "cell_type": "code",
   "execution_count": 88,
   "id": "eeef4d8d-7eee-4843-816e-0a20fa761ddc",
   "metadata": {},
   "outputs": [],
   "source": [
    "fp.close()"
   ]
  },
  {
   "cell_type": "code",
   "execution_count": 90,
   "id": "d8515085-07ee-4d01-81d9-b38a3363ab4f",
   "metadata": {},
   "outputs": [],
   "source": [
    "# append mode\n",
    "# mode=a: It opens your file using append mode and lets you add the data at the end of the existing file\n",
    "# if the file is not present it would create the new file\n",
    "fp = open(\"filewo.txt\", \"a\")"
   ]
  },
  {
   "cell_type": "code",
   "execution_count": 91,
   "id": "4f64ec14-dd93-404f-a937-d5689f902288",
   "metadata": {},
   "outputs": [
    {
     "data": {
      "text/plain": [
       "50"
      ]
     },
     "execution_count": 91,
     "metadata": {},
     "output_type": "execute_result"
    }
   ],
   "source": [
    "fp.tell()"
   ]
  },
  {
   "cell_type": "code",
   "execution_count": 92,
   "id": "91307c25-5418-497f-99f2-c968a6961735",
   "metadata": {},
   "outputs": [
    {
     "data": {
      "text/plain": [
       "3"
      ]
     },
     "execution_count": 92,
     "metadata": {},
     "output_type": "execute_result"
    }
   ],
   "source": [
    "fp.write(\"Hey\")"
   ]
  },
  {
   "cell_type": "code",
   "execution_count": 93,
   "id": "c63be551-6577-46a6-980f-2c4e0674f896",
   "metadata": {},
   "outputs": [
    {
     "data": {
      "text/plain": [
       "53"
      ]
     },
     "execution_count": 93,
     "metadata": {},
     "output_type": "execute_result"
    }
   ],
   "source": [
    "fp.tell()"
   ]
  },
  {
   "cell_type": "code",
   "execution_count": 94,
   "id": "22334372-0bae-4bbf-a2ee-a511c5ed1507",
   "metadata": {},
   "outputs": [
    {
     "ename": "UnsupportedOperation",
     "evalue": "not readable",
     "output_type": "error",
     "traceback": [
      "\u001b[1;31m---------------------------------------------------------------------------\u001b[0m",
      "\u001b[1;31mUnsupportedOperation\u001b[0m                      Traceback (most recent call last)",
      "Cell \u001b[1;32mIn[94], line 1\u001b[0m\n\u001b[1;32m----> 1\u001b[0m \u001b[43mfp\u001b[49m\u001b[38;5;241;43m.\u001b[39;49m\u001b[43mread\u001b[49m\u001b[43m(\u001b[49m\u001b[43m)\u001b[49m\n",
      "\u001b[1;31mUnsupportedOperation\u001b[0m: not readable"
     ]
    }
   ],
   "source": [
    "fp.read()"
   ]
  },
  {
   "cell_type": "code",
   "execution_count": 95,
   "id": "8104c2c7-6ea6-4b17-be77-a7fd9ca18646",
   "metadata": {},
   "outputs": [],
   "source": [
    "fp.close()"
   ]
  },
  {
   "cell_type": "code",
   "execution_count": null,
   "id": "36b29bba-6334-4729-9767-987c70a538c0",
   "metadata": {},
   "outputs": [],
   "source": []
  },
  {
   "cell_type": "code",
   "execution_count": null,
   "id": "091dbd14-5124-4123-abb2-cd7fe1019115",
   "metadata": {},
   "outputs": [],
   "source": []
  },
  {
   "cell_type": "code",
   "execution_count": 96,
   "id": "44f07422-b4bc-4eac-9e0d-50051099b6a6",
   "metadata": {},
   "outputs": [
    {
     "name": "stdout",
     "output_type": "stream",
     "text": [
      "53\n"
     ]
    }
   ],
   "source": [
    "# context manager\n",
    "with open(\"filewo.txt\", \"a\") as fp:\n",
    "    print(fp.tell())\n",
    "    fp.write(\"\\r\")\n",
    "    fp.write(\"Hey I am writing in append mode using context manager\")"
   ]
  },
  {
   "cell_type": "code",
   "execution_count": null,
   "id": "2f4e495a-de09-4b8b-9da3-16c541ecdc0c",
   "metadata": {},
   "outputs": [],
   "source": []
  },
  {
   "cell_type": "code",
   "execution_count": 97,
   "id": "4eddee89-bcf0-4b72-b14d-43b9152a1994",
   "metadata": {},
   "outputs": [
    {
     "ename": "FileNotFoundError",
     "evalue": "[Errno 2] No such file or directory: 'randomfile.txt'",
     "output_type": "error",
     "traceback": [
      "\u001b[1;31m---------------------------------------------------------------------------\u001b[0m",
      "\u001b[1;31mFileNotFoundError\u001b[0m                         Traceback (most recent call last)",
      "Cell \u001b[1;32mIn[97], line 5\u001b[0m\n\u001b[0;32m      1\u001b[0m \u001b[38;5;66;03m# r+ mode:\u001b[39;00m\n\u001b[0;32m      2\u001b[0m \u001b[38;5;66;03m# it doesnot create the file\u001b[39;00m\n\u001b[0;32m      3\u001b[0m \u001b[38;5;66;03m# the file pointer is always at the begining of the file\u001b[39;00m\n\u001b[0;32m      4\u001b[0m \u001b[38;5;66;03m# It supports read+write operation\u001b[39;00m\n\u001b[1;32m----> 5\u001b[0m \u001b[38;5;28;01mwith\u001b[39;00m \u001b[38;5;28;43mopen\u001b[39;49m\u001b[43m(\u001b[49m\u001b[38;5;124;43m\"\u001b[39;49m\u001b[38;5;124;43mrandomfile.txt\u001b[39;49m\u001b[38;5;124;43m\"\u001b[39;49m\u001b[43m,\u001b[49m\u001b[43m \u001b[49m\u001b[38;5;124;43m\"\u001b[39;49m\u001b[38;5;124;43mr+\u001b[39;49m\u001b[38;5;124;43m\"\u001b[39;49m\u001b[43m)\u001b[49m \u001b[38;5;28;01mas\u001b[39;00m fp:\n\u001b[0;32m      6\u001b[0m     \u001b[38;5;28mprint\u001b[39m(fp\u001b[38;5;241m.\u001b[39mread())\n",
      "File \u001b[1;32mF:\\PYMD\\env\\Lib\\site-packages\\IPython\\core\\interactiveshell.py:324\u001b[0m, in \u001b[0;36m_modified_open\u001b[1;34m(file, *args, **kwargs)\u001b[0m\n\u001b[0;32m    317\u001b[0m \u001b[38;5;28;01mif\u001b[39;00m file \u001b[38;5;129;01min\u001b[39;00m {\u001b[38;5;241m0\u001b[39m, \u001b[38;5;241m1\u001b[39m, \u001b[38;5;241m2\u001b[39m}:\n\u001b[0;32m    318\u001b[0m     \u001b[38;5;28;01mraise\u001b[39;00m \u001b[38;5;167;01mValueError\u001b[39;00m(\n\u001b[0;32m    319\u001b[0m         \u001b[38;5;124mf\u001b[39m\u001b[38;5;124m\"\u001b[39m\u001b[38;5;124mIPython won\u001b[39m\u001b[38;5;124m'\u001b[39m\u001b[38;5;124mt let you open fd=\u001b[39m\u001b[38;5;132;01m{\u001b[39;00mfile\u001b[38;5;132;01m}\u001b[39;00m\u001b[38;5;124m by default \u001b[39m\u001b[38;5;124m\"\u001b[39m\n\u001b[0;32m    320\u001b[0m         \u001b[38;5;124m\"\u001b[39m\u001b[38;5;124mas it is likely to crash IPython. If you know what you are doing, \u001b[39m\u001b[38;5;124m\"\u001b[39m\n\u001b[0;32m    321\u001b[0m         \u001b[38;5;124m\"\u001b[39m\u001b[38;5;124myou can use builtins\u001b[39m\u001b[38;5;124m'\u001b[39m\u001b[38;5;124m open.\u001b[39m\u001b[38;5;124m\"\u001b[39m\n\u001b[0;32m    322\u001b[0m     )\n\u001b[1;32m--> 324\u001b[0m \u001b[38;5;28;01mreturn\u001b[39;00m \u001b[43mio_open\u001b[49m\u001b[43m(\u001b[49m\u001b[43mfile\u001b[49m\u001b[43m,\u001b[49m\u001b[43m \u001b[49m\u001b[38;5;241;43m*\u001b[39;49m\u001b[43margs\u001b[49m\u001b[43m,\u001b[49m\u001b[43m \u001b[49m\u001b[38;5;241;43m*\u001b[39;49m\u001b[38;5;241;43m*\u001b[39;49m\u001b[43mkwargs\u001b[49m\u001b[43m)\u001b[49m\n",
      "\u001b[1;31mFileNotFoundError\u001b[0m: [Errno 2] No such file or directory: 'randomfile.txt'"
     ]
    }
   ],
   "source": [
    "# r+ mode:\n",
    "# it doesnot create the file\n",
    "# the file pointer is always at the begining of the file\n",
    "# It supports read+write operation\n",
    "with open(\"randomfile.txt\", \"r+\") as fp:\n",
    "    print(fp.read())"
   ]
  },
  {
   "cell_type": "code",
   "execution_count": 98,
   "id": "a78d6d08-7113-45ce-b189-9dc1b4312573",
   "metadata": {},
   "outputs": [
    {
     "name": "stdout",
     "output_type": "stream",
     "text": [
      "Hey I am content of file 1\n"
     ]
    }
   ],
   "source": [
    "with open(\"file1.txt\", \"r+\") as fp:\n",
    "    content = fp.read()\n",
    "    print(content)\n",
    "    "
   ]
  },
  {
   "cell_type": "code",
   "execution_count": 99,
   "id": "7f4fee0e-eeb4-4860-838f-d4f648c4e1a9",
   "metadata": {},
   "outputs": [
    {
     "name": "stdout",
     "output_type": "stream",
     "text": [
      "Hey I am content of file 1\n"
     ]
    }
   ],
   "source": [
    "with open(\"file1.txt\", \"r+\") as fp:\n",
    "    content = fp.read()\n",
    "    print(content)\n",
    "    fp.write(\"\\r\")\n",
    "    fp.write(\"Hey I am written using the r+ mode\")\n",
    "    fp.seek(0)\n",
    "    content = fp.read()"
   ]
  },
  {
   "cell_type": "code",
   "execution_count": 100,
   "id": "a2db97a6-cfbd-4124-beca-2123259ba757",
   "metadata": {},
   "outputs": [
    {
     "name": "stdout",
     "output_type": "stream",
     "text": [
      "Hey I am content of file 1\n",
      "Hey I am written using the r+ mode\n"
     ]
    }
   ],
   "source": [
    "print(content)"
   ]
  },
  {
   "cell_type": "code",
   "execution_count": 103,
   "id": "707f3698-ad05-4a7e-b5ea-d227def0006b",
   "metadata": {},
   "outputs": [
    {
     "data": {
      "text/plain": [
       "'Hey I am content of file 1\\nHey I am written using the r+ mode'"
      ]
     },
     "execution_count": 103,
     "metadata": {},
     "output_type": "execute_result"
    }
   ],
   "source": [
    "content"
   ]
  },
  {
   "cell_type": "code",
   "execution_count": 101,
   "id": "86447c24-997e-48b1-92f7-28b2269b8769",
   "metadata": {},
   "outputs": [],
   "source": [
    "# w+: write + read mode\n",
    "# It truncates the existing file or creates the new file\n",
    "# file pointer is always at the start of the file"
   ]
  },
  {
   "cell_type": "code",
   "execution_count": 102,
   "id": "c801b5b2-a1f9-4d00-896b-dc6dfce6a953",
   "metadata": {},
   "outputs": [],
   "source": [
    "# a+: write + read mode\n",
    "# It creates a new file if the file is not present.\n",
    "# It opens the file with file pointer at the EOF"
   ]
  },
  {
   "cell_type": "code",
   "execution_count": 104,
   "id": "222cc00e-65e9-4111-84e3-914915464a0e",
   "metadata": {},
   "outputs": [],
   "source": [
    "with open(\"file1.txt\", \"a+\") as fp:\n",
    "    fp.write(\"\\r\")\n",
    "    fp.write(\"Hey I am written using the a+ mide\")\n",
    "    fp.seek(0)\n",
    "    lines = fp.readlines()"
   ]
  },
  {
   "cell_type": "code",
   "execution_count": 106,
   "id": "0556d401-f810-474c-8a1e-74717dac5a4d",
   "metadata": {},
   "outputs": [
    {
     "name": "stdout",
     "output_type": "stream",
     "text": [
      "['Hey I am content of file 1\\n', 'Hey I am written using the r+ mode\\n', 'Hey I am written using the a+ mide']\n"
     ]
    }
   ],
   "source": [
    "print(lines)"
   ]
  },
  {
   "cell_type": "code",
   "execution_count": 107,
   "id": "b3b8a33e-baa7-44d6-8192-cac24bbd0558",
   "metadata": {},
   "outputs": [
    {
     "name": "stdout",
     "output_type": "stream",
     "text": [
      "['Hey I am content of file 1\\n', 'Hi I am written using the r+ mode\\n', 'Hi I am written using the a+ mide']\n"
     ]
    }
   ],
   "source": [
    "# lets replace Hey with hi\n",
    "with open(\"file1.txt\", \"r+\") as fp:\n",
    "    lines = fp.readlines()\n",
    "    for i in range(len(lines)):\n",
    "        if \"written\" in lines[i]:\n",
    "            lines[i] = lines[i].replace(\"Hey\", \"Hi\")\n",
    "    print(lines)"
   ]
  },
  {
   "cell_type": "code",
   "execution_count": 108,
   "id": "d1f241d5-6bf0-4d50-b82e-6477d52446d7",
   "metadata": {},
   "outputs": [
    {
     "name": "stdout",
     "output_type": "stream",
     "text": [
      "Hey I am content of file 1\n",
      "Hi I am written using the r+ mode\n",
      "Hi I am written using the a+ mide\n"
     ]
    }
   ],
   "source": [
    "with open(\"file1.txt\", \"r+\") as fp:\n",
    "    lines = fp.readlines()\n",
    "    for i in range(len(lines)):\n",
    "        if \"written\" in lines[i]:\n",
    "            lines[i] = lines[i].replace(\"Hey\", \"Hi\")\n",
    "    fp.seek(0)\n",
    "    fp.truncate()\n",
    "    fp.writelines(lines)\n",
    "    fp.seek(0)\n",
    "    print(fp.read())"
   ]
  },
  {
   "cell_type": "code",
   "execution_count": null,
   "id": "ff7fb8da-8164-481c-9e81-9129d3d7a11e",
   "metadata": {},
   "outputs": [],
   "source": []
  },
  {
   "cell_type": "code",
   "execution_count": null,
   "id": "cabb6654-0392-420c-a1a4-adbcfda097a7",
   "metadata": {},
   "outputs": [],
   "source": []
  },
  {
   "cell_type": "markdown",
   "id": "7b079ac2-4767-414f-be51-37c76e9705fb",
   "metadata": {},
   "source": [
    "# RegEx"
   ]
  },
  {
   "cell_type": "code",
   "execution_count": 109,
   "id": "669716df-1ee7-4cc3-a58f-358943af6c03",
   "metadata": {},
   "outputs": [],
   "source": [
    "# Regular Expression"
   ]
  },
  {
   "cell_type": "code",
   "execution_count": 110,
   "id": "c36dd62d-6880-4f2d-92f3-a6a06a87a9ef",
   "metadata": {},
   "outputs": [],
   "source": [
    "s = 'Hi I am written using the r+ mode\\n'"
   ]
  },
  {
   "cell_type": "code",
   "execution_count": 111,
   "id": "158de9f3-898d-4344-87a7-0f8b298b3ae8",
   "metadata": {},
   "outputs": [
    {
     "data": {
      "text/plain": [
       "True"
      ]
     },
     "execution_count": 111,
     "metadata": {},
     "output_type": "execute_result"
    }
   ],
   "source": [
    "\"w\" in s"
   ]
  },
  {
   "cell_type": "code",
   "execution_count": 112,
   "id": "18185204-16af-49f1-a0ed-833b1a043241",
   "metadata": {},
   "outputs": [
    {
     "data": {
      "text/plain": [
       "8"
      ]
     },
     "execution_count": 112,
     "metadata": {},
     "output_type": "execute_result"
    }
   ],
   "source": [
    "s.find(\"w\")"
   ]
  },
  {
   "cell_type": "code",
   "execution_count": 113,
   "id": "a010ad57-4d41-40ff-8837-a7761c51f41a",
   "metadata": {},
   "outputs": [
    {
     "data": {
      "text/plain": [
       "8"
      ]
     },
     "execution_count": 113,
     "metadata": {},
     "output_type": "execute_result"
    }
   ],
   "source": [
    "s.index(\"w\")"
   ]
  },
  {
   "cell_type": "code",
   "execution_count": 114,
   "id": "203c459a-fb6d-40cf-ad8b-77c7ccb903e4",
   "metadata": {},
   "outputs": [],
   "source": [
    "# search those pattern which starts with w and ends with n\n",
    "s = 'Hi I am written using w kdfjsf wdfhfufn dfsfhdwtkji wn the r+ mode\\n'"
   ]
  },
  {
   "cell_type": "code",
   "execution_count": null,
   "id": "67487609-3257-4718-872c-c21722a8b61e",
   "metadata": {},
   "outputs": [],
   "source": [
    "# Metacharacters are charaters with special meaning\n",
    "Character     |       Description\n",
    "[]            | A set of characters    ex: [A-Z], [a-z], [A-z], [0-9], [ABZ] etc...\n",
    ".             | Any single character   c.t-> cat, cbt, c9t, cxt...\n",
    "^             | starts with            ^mahesh\n",
    "              | not of                 [^ABC]\n",
    "$             | ends with              plant$\n",
    "*             | Zero or more occurences w<anything>n-> \n",
    "                                        w.*n--> wn, written, wdfhfufn\n",
    "+             | one or more ocurrences  w.+n --> written, wdfhfufn\n",
    "?             | zero or one occurence   w.?n ---> wn, w1n, wbn\n",
    "{}            | Exactly specified number of occurences   [A-z]{2} --> am, Hi, wn"
   ]
  },
  {
   "cell_type": "code",
   "execution_count": 115,
   "id": "e85beaa7-d289-4e9b-963b-4054f1fc8493",
   "metadata": {},
   "outputs": [],
   "source": [
    "import re"
   ]
  },
  {
   "cell_type": "code",
   "execution_count": 117,
   "id": "96605cb1-6d3e-40ee-b0a5-71a04d632ee3",
   "metadata": {},
   "outputs": [],
   "source": [
    "# findall\n",
    "import re\n",
    "s = 'Hi I am written usi5ng w kdfjsf wdfn win dkji wn the r+ mode 98 5'\n",
    "a = re.findall(\"[A-z]\", s)"
   ]
  },
  {
   "cell_type": "code",
   "execution_count": 121,
   "id": "72b8b0d3-f08c-4588-9c20-9f6df0055c1e",
   "metadata": {},
   "outputs": [],
   "source": [
    "b = re.findall(\"[A-z]{2}\", s)"
   ]
  },
  {
   "cell_type": "code",
   "execution_count": 122,
   "id": "df30e4bc-a1c0-4d67-a4e4-c8faab1c664b",
   "metadata": {},
   "outputs": [
    {
     "name": "stdout",
     "output_type": "stream",
     "text": [
      "['Hi', 'am', 'wr', 'it', 'te', 'us', 'ng', 'kd', 'fj', 'sf', 'wd', 'fn', 'wi', 'dk', 'ji', 'wn', 'th', 'mo', 'de']\n"
     ]
    }
   ],
   "source": [
    "print(b)"
   ]
  },
  {
   "cell_type": "code",
   "execution_count": 123,
   "id": "8e3d1395-427c-4ffd-ae0b-d058e7660200",
   "metadata": {},
   "outputs": [],
   "source": [
    "c = re.findall(\"..\", s)"
   ]
  },
  {
   "cell_type": "code",
   "execution_count": 124,
   "id": "e5e0bbcc-e251-453c-b6b3-612bb11f6276",
   "metadata": {},
   "outputs": [
    {
     "name": "stdout",
     "output_type": "stream",
     "text": [
      "['Hi', ' I', ' a', 'm ', 'wr', 'it', 'te', 'n ', 'us', 'i5', 'ng', ' w', ' k', 'df', 'js', 'f ', 'wd', 'fn', ' w', 'in', ' d', 'kj', 'i ', 'wn', ' t', 'he', ' r', '+ ', 'mo', 'de', ' 9', '8 ']\n"
     ]
    }
   ],
   "source": [
    "print(c)"
   ]
  },
  {
   "cell_type": "code",
   "execution_count": 125,
   "id": "2272ab6d-8e8f-4a99-8ea3-5b56d25b37fb",
   "metadata": {},
   "outputs": [
    {
     "name": "stdout",
     "output_type": "stream",
     "text": [
      "['written usi5ng w kdfjsf wdfn win dkji wn']\n"
     ]
    }
   ],
   "source": [
    "d = re.findall(\"w.*n\", s)\n",
    "print(d)"
   ]
  },
  {
   "cell_type": "code",
   "execution_count": 126,
   "id": "0f26ffd4-af7e-496e-976c-e54151c07e17",
   "metadata": {},
   "outputs": [
    {
     "name": "stdout",
     "output_type": "stream",
     "text": [
      "['written', 'wdfn', 'win', 'wn']\n"
     ]
    }
   ],
   "source": [
    "e = re.findall(\"w[A-z0-9]*n\", s)\n",
    "print(e)"
   ]
  },
  {
   "cell_type": "code",
   "execution_count": 127,
   "id": "d3db5d39-05ae-4bd7-90c6-2badd6626d9a",
   "metadata": {},
   "outputs": [
    {
     "data": {
      "text/plain": [
       "['n', 'wn', 'wwn', 'wwwwwwn', 'n']"
      ]
     },
     "execution_count": 127,
     "metadata": {},
     "output_type": "execute_result"
    }
   ],
   "source": [
    "# w*n\n",
    "# n, wn, wwn, wwwwwwn\n",
    "s= \"n, wn, wwn, wwwwwwn wan\"\n",
    "re.findall(\"w*n\", s)"
   ]
  },
  {
   "cell_type": "code",
   "execution_count": 128,
   "id": "e54a771b-bfe6-4e43-9636-364590749bff",
   "metadata": {},
   "outputs": [
    {
     "data": {
      "text/plain": [
       "['wn', 'wwn', 'wwwwwwn']"
      ]
     },
     "execution_count": 128,
     "metadata": {},
     "output_type": "execute_result"
    }
   ],
   "source": [
    "re.findall(\"w+n\", s)"
   ]
  },
  {
   "cell_type": "code",
   "execution_count": 129,
   "id": "ca50550a-0565-4129-b6e5-8c44506d7049",
   "metadata": {},
   "outputs": [
    {
     "data": {
      "text/plain": [
       "['n', 'wn', 'wn', 'wn', 'n']"
      ]
     },
     "execution_count": 129,
     "metadata": {},
     "output_type": "execute_result"
    }
   ],
   "source": [
    "re.findall(\"w?n\", s)"
   ]
  },
  {
   "cell_type": "code",
   "execution_count": 130,
   "id": "25a84893-7ed7-42e7-abbb-09e56b7df56e",
   "metadata": {},
   "outputs": [
    {
     "data": {
      "text/plain": [
       "['Happy']"
      ]
     },
     "execution_count": 130,
     "metadata": {},
     "output_type": "execute_result"
    }
   ],
   "source": [
    "s = \"Happy birthday\"\n",
    "re.findall(\"^Happy\", s)"
   ]
  },
  {
   "cell_type": "code",
   "execution_count": 131,
   "id": "61c2968c-6196-4d7f-9a80-3c351581225d",
   "metadata": {},
   "outputs": [
    {
     "data": {
      "text/plain": [
       "[]"
      ]
     },
     "execution_count": 131,
     "metadata": {},
     "output_type": "execute_result"
    }
   ],
   "source": [
    "s = \"happy birthday\"\n",
    "re.findall(\"^Happy\", s)"
   ]
  },
  {
   "cell_type": "code",
   "execution_count": 132,
   "id": "aa226a62-ce9a-466c-8bd6-f7c87f3d6406",
   "metadata": {},
   "outputs": [
    {
     "data": {
      "text/plain": [
       "['happy']"
      ]
     },
     "execution_count": 132,
     "metadata": {},
     "output_type": "execute_result"
    }
   ],
   "source": [
    "re.findall(\"^[Hh]appy\", s)"
   ]
  },
  {
   "cell_type": "code",
   "execution_count": 134,
   "id": "91c67a5d-162f-4cd2-b818-0121a7624e41",
   "metadata": {},
   "outputs": [
    {
     "data": {
      "text/plain": [
       "['birthday']"
      ]
     },
     "execution_count": 134,
     "metadata": {},
     "output_type": "execute_result"
    }
   ],
   "source": [
    "re.findall(\"[A-z]+y$\", s)"
   ]
  },
  {
   "cell_type": "code",
   "execution_count": 135,
   "id": "977507f7-8cb7-4f97-b12b-c29234d26ef1",
   "metadata": {},
   "outputs": [
    {
     "data": {
      "text/plain": [
       "[]"
      ]
     },
     "execution_count": 135,
     "metadata": {},
     "output_type": "execute_result"
    }
   ],
   "source": [
    "re.findall(\"[A-z]+Y$\", s)"
   ]
  },
  {
   "cell_type": "code",
   "execution_count": null,
   "id": "617fb7ab-9301-4062-a607-b8fe604144ac",
   "metadata": {},
   "outputs": [],
   "source": []
  }
 ],
 "metadata": {
  "kernelspec": {
   "display_name": "Python 3 (ipykernel)",
   "language": "python",
   "name": "python3"
  },
  "language_info": {
   "codemirror_mode": {
    "name": "ipython",
    "version": 3
   },
   "file_extension": ".py",
   "mimetype": "text/x-python",
   "name": "python",
   "nbconvert_exporter": "python",
   "pygments_lexer": "ipython3",
   "version": "3.13.0"
  }
 },
 "nbformat": 4,
 "nbformat_minor": 5
}
