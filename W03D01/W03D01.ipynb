{
 "cells": [
  {
   "cell_type": "code",
   "execution_count": 1,
   "id": "93ce6c02-4dd9-4f51-9538-5c92a19ffabd",
   "metadata": {},
   "outputs": [],
   "source": [
    "# Classes and objects\n",
    "# Object: its a collection of variables(data) and functions(methods)\n",
    "# Class: its a blueprint of that object"
   ]
  },
  {
   "cell_type": "code",
   "execution_count": null,
   "id": "74ab9147-185c-4b29-92c9-3ca86ba0ba21",
   "metadata": {},
   "outputs": [],
   "source": [
    "class ClassName:\n",
    "    # class definition"
   ]
  },
  {
   "cell_type": "code",
   "execution_count": 2,
   "id": "b5a7e97b-d063-490d-9b67-f5a44494da35",
   "metadata": {},
   "outputs": [
    {
     "data": {
      "text/plain": [
       "'\\nCar: name of the class\\nname/ wheels: varibles inside the class\\n\\nVariables inside a class are called attributes`b\\n'"
      ]
     },
     "execution_count": 2,
     "metadata": {},
     "output_type": "execute_result"
    }
   ],
   "source": [
    "class Car:\n",
    "    name = \"\"\n",
    "    wheels = 4\n",
    "\"\"\"\n",
    "Car: name of the class\n",
    "name/ wheels: varibles inside the class\n",
    "\n",
    "Variables inside a class are called attributes`b\n",
    "\"\"\""
   ]
  },
  {
   "cell_type": "code",
   "execution_count": 5,
   "id": "e4ccc43a-32c6-4748-ae54-bed73b5bd0de",
   "metadata": {},
   "outputs": [],
   "source": [
    "# funct1() --> adding two numbers\n",
    "# funct2(funct1())\n",
    "def fun1():\n",
    "    return 2+3\n",
    "a = fun1()"
   ]
  },
  {
   "cell_type": "code",
   "execution_count": 6,
   "id": "58cfccd9-f2c2-407f-9b1d-fa1c7c9c57c5",
   "metadata": {},
   "outputs": [
    {
     "data": {
      "text/plain": [
       "5"
      ]
     },
     "execution_count": 6,
     "metadata": {},
     "output_type": "execute_result"
    }
   ],
   "source": [
    "a"
   ]
  },
  {
   "cell_type": "code",
   "execution_count": 8,
   "id": "ac19c2cb-d84c-43a4-b0e0-d15b7cca4b87",
   "metadata": {},
   "outputs": [
    {
     "name": "stdout",
     "output_type": "stream",
     "text": [
      "5\n"
     ]
    }
   ],
   "source": [
    "def fun2():\n",
    "    print(2+3)\n",
    "b = fun2()"
   ]
  },
  {
   "cell_type": "code",
   "execution_count": 10,
   "id": "4852a172-f804-4c98-9e32-0c294b8b1871",
   "metadata": {},
   "outputs": [
    {
     "name": "stdout",
     "output_type": "stream",
     "text": [
      "None\n"
     ]
    }
   ],
   "source": [
    "print(b)"
   ]
  },
  {
   "cell_type": "code",
   "execution_count": 11,
   "id": "d18c4ed7-e096-4127-88b0-4e9e26042d15",
   "metadata": {},
   "outputs": [
    {
     "name": "stdout",
     "output_type": "stream",
     "text": [
      "boring data type\n"
     ]
    }
   ],
   "source": [
    "def fun3(a):\n",
    "    if a is None:\n",
    "        print(\"Hey I got None\")\n",
    "    else:\n",
    "        print(\"boring data type\")\n",
    "fun3(fun1())"
   ]
  },
  {
   "cell_type": "code",
   "execution_count": 12,
   "id": "b1b66965-52fc-4497-bcf0-17d16c9fa7f4",
   "metadata": {},
   "outputs": [
    {
     "name": "stdout",
     "output_type": "stream",
     "text": [
      "5\n",
      "Hey I got None\n"
     ]
    }
   ],
   "source": [
    "fun3(fun2())"
   ]
  },
  {
   "cell_type": "code",
   "execution_count": 16,
   "id": "c63d7094-43f0-4a68-81f5-52f66f4ca523",
   "metadata": {},
   "outputs": [
    {
     "name": "stdout",
     "output_type": "stream",
     "text": [
      "5\n"
     ]
    }
   ],
   "source": [
    "def fun2a():\n",
    "    print(2+3)\n",
    "    return 2+3\n",
    "b = fun2a()"
   ]
  },
  {
   "cell_type": "code",
   "execution_count": 17,
   "id": "409b9a06-7a0f-45e2-ae47-2099eab5ceeb",
   "metadata": {},
   "outputs": [
    {
     "name": "stdout",
     "output_type": "stream",
     "text": [
      "5\n"
     ]
    }
   ],
   "source": [
    "print(b)"
   ]
  },
  {
   "cell_type": "code",
   "execution_count": 18,
   "id": "6009935d-f5db-44e1-8e6d-7f710a1e84a8",
   "metadata": {},
   "outputs": [
    {
     "data": {
      "text/plain": [
       "5"
      ]
     },
     "execution_count": 18,
     "metadata": {},
     "output_type": "execute_result"
    }
   ],
   "source": [
    "b"
   ]
  },
  {
   "cell_type": "code",
   "execution_count": 19,
   "id": "5b4a832e-5a20-4dde-a773-63ea9d3b5a79",
   "metadata": {},
   "outputs": [
    {
     "name": "stdout",
     "output_type": "stream",
     "text": [
      "5\n",
      "boring data type\n"
     ]
    }
   ],
   "source": [
    "fun3(fun2a())"
   ]
  },
  {
   "cell_type": "code",
   "execution_count": 20,
   "id": "8ee84bcd-7351-466d-8adb-1e026af20742",
   "metadata": {},
   "outputs": [
    {
     "name": "stdout",
     "output_type": "stream",
     "text": [
      "boring data type\n"
     ]
    }
   ],
   "source": [
    "fun3(b)"
   ]
  },
  {
   "cell_type": "code",
   "execution_count": null,
   "id": "a9de47f0-2646-4f56-835c-6d42783d85a3",
   "metadata": {},
   "outputs": [],
   "source": []
  },
  {
   "cell_type": "code",
   "execution_count": 23,
   "id": "38be0cc8-9aa4-424f-84de-98f483d2e570",
   "metadata": {},
   "outputs": [],
   "source": [
    "\"\"\"\n",
    "Car: name of the class\n",
    "name/ wheels: varibles inside the class\n",
    "\n",
    "Variables inside a class are called attributes`b\n",
    "\"\"\"\n",
    "class Car:\n",
    "    name = \"\"\n",
    "    wheels = 4"
   ]
  },
  {
   "cell_type": "code",
   "execution_count": 24,
   "id": "9b1d1cd5-f33c-4e7d-a2a3-db9f9d7f9e8b",
   "metadata": {},
   "outputs": [],
   "source": [
    "object1 = Car()"
   ]
  },
  {
   "cell_type": "code",
   "execution_count": 25,
   "id": "b1007eb4-9e1f-496e-984c-de1d5184a7d2",
   "metadata": {},
   "outputs": [
    {
     "data": {
      "text/plain": [
       "''"
      ]
     },
     "execution_count": 25,
     "metadata": {},
     "output_type": "execute_result"
    }
   ],
   "source": [
    "object1.name"
   ]
  },
  {
   "cell_type": "code",
   "execution_count": 26,
   "id": "19679950-75d1-4111-9f82-eeeaae591b80",
   "metadata": {},
   "outputs": [],
   "source": [
    "mahesh = Car()"
   ]
  },
  {
   "cell_type": "code",
   "execution_count": 28,
   "id": "96860f86-a9fb-44d5-be8d-d35808e62c96",
   "metadata": {},
   "outputs": [],
   "source": [
    "mahesh.name = \"maercidez\""
   ]
  },
  {
   "cell_type": "code",
   "execution_count": 29,
   "id": "ab14a581-0aa9-44ab-a82f-115389a871a9",
   "metadata": {},
   "outputs": [
    {
     "data": {
      "text/plain": [
       "'maercidez'"
      ]
     },
     "execution_count": 29,
     "metadata": {},
     "output_type": "execute_result"
    }
   ],
   "source": [
    "mahesh.name"
   ]
  },
  {
   "cell_type": "code",
   "execution_count": 30,
   "id": "4849238c-3055-4008-9175-045ec4d55e5f",
   "metadata": {},
   "outputs": [
    {
     "data": {
      "text/plain": [
       "''"
      ]
     },
     "execution_count": 30,
     "metadata": {},
     "output_type": "execute_result"
    }
   ],
   "source": [
    "object1.name"
   ]
  },
  {
   "cell_type": "code",
   "execution_count": 38,
   "id": "c1d74dbc-0a48-467e-81aa-49b52eec2b41",
   "metadata": {},
   "outputs": [],
   "source": [
    "class Employee:\n",
    "    def __init__(self, name1, salary):\n",
    "        self.name = name1\n",
    "        self.salary = salary\n",
    "\n",
    "    def get_incriment(self, val):\n",
    "        self.salary += val\n",
    "        return self.salary"
   ]
  },
  {
   "cell_type": "code",
   "execution_count": 39,
   "id": "911e54af-93f5-4236-8b1f-a35baadce8a6",
   "metadata": {},
   "outputs": [],
   "source": [
    "emp1 = Employee(\"Mahesh\", 1000000000)"
   ]
  },
  {
   "cell_type": "code",
   "execution_count": 40,
   "id": "8ace81a6-1a52-41d5-9ccc-44f6745bd0d7",
   "metadata": {},
   "outputs": [
    {
     "data": {
      "text/plain": [
       "{'name': 'Mahesh', 'salary': 1000000000}"
      ]
     },
     "execution_count": 40,
     "metadata": {},
     "output_type": "execute_result"
    }
   ],
   "source": [
    "emp1.__dict__"
   ]
  },
  {
   "cell_type": "code",
   "execution_count": 41,
   "id": "700ef382-244c-49f6-a336-a2dc2c320257",
   "metadata": {},
   "outputs": [],
   "source": [
    "em2 = Employee(\"Shiva\", 2000000000)"
   ]
  },
  {
   "cell_type": "code",
   "execution_count": 42,
   "id": "05bc6d12-9c3f-4bfd-8909-fb82271fabfe",
   "metadata": {},
   "outputs": [
    {
     "data": {
      "text/plain": [
       "{'name': 'Shiva', 'salary': 2000000000}"
      ]
     },
     "execution_count": 42,
     "metadata": {},
     "output_type": "execute_result"
    }
   ],
   "source": [
    "em2.__dict__"
   ]
  },
  {
   "cell_type": "code",
   "execution_count": 43,
   "id": "7c539a39-9ec7-4e0d-a174-a708e0a3137e",
   "metadata": {},
   "outputs": [
    {
     "data": {
      "text/plain": [
       "1000002500"
      ]
     },
     "execution_count": 43,
     "metadata": {},
     "output_type": "execute_result"
    }
   ],
   "source": [
    "emp1.get_incriment(2500)"
   ]
  },
  {
   "cell_type": "code",
   "execution_count": 44,
   "id": "d469ac6c-5187-45b6-9105-28e17f17c0b2",
   "metadata": {},
   "outputs": [
    {
     "data": {
      "text/plain": [
       "1999997500"
      ]
     },
     "execution_count": 44,
     "metadata": {},
     "output_type": "execute_result"
    }
   ],
   "source": [
    "em2.get_incriment(-2500)"
   ]
  },
  {
   "cell_type": "code",
   "execution_count": 45,
   "id": "7a0327af-95ea-475f-a435-01dad29853d6",
   "metadata": {},
   "outputs": [
    {
     "data": {
      "text/plain": [
       "{'name': 'Mahesh', 'salary': 1000002500}"
      ]
     },
     "execution_count": 45,
     "metadata": {},
     "output_type": "execute_result"
    }
   ],
   "source": [
    "emp1.__dict__"
   ]
  },
  {
   "cell_type": "code",
   "execution_count": 46,
   "id": "8f3c9766-be23-4890-9c15-623d4bd34267",
   "metadata": {},
   "outputs": [
    {
     "data": {
      "text/plain": [
       "{'name': 'Shiva', 'salary': 1999997500}"
      ]
     },
     "execution_count": 46,
     "metadata": {},
     "output_type": "execute_result"
    }
   ],
   "source": [
    "em2.__dict__"
   ]
  },
  {
   "cell_type": "code",
   "execution_count": 47,
   "id": "a9c5b646-4a66-486d-aaca-9ad06ecdc89e",
   "metadata": {},
   "outputs": [
    {
     "data": {
      "text/plain": [
       "'Mahesh'"
      ]
     },
     "execution_count": 47,
     "metadata": {},
     "output_type": "execute_result"
    }
   ],
   "source": [
    "emp1.name"
   ]
  },
  {
   "cell_type": "code",
   "execution_count": 48,
   "id": "c2a78b82-b5c1-43fe-9166-473dee506e7a",
   "metadata": {},
   "outputs": [],
   "source": [
    "# getters and setter"
   ]
  },
  {
   "cell_type": "code",
   "execution_count": 49,
   "id": "591b63ac-c6c4-4dbd-b423-35a88bff58c1",
   "metadata": {},
   "outputs": [],
   "source": [
    "emp1.name = \"mahesh\""
   ]
  },
  {
   "cell_type": "code",
   "execution_count": 50,
   "id": "47ed33af-f0f9-466c-bc78-1f68d8afc354",
   "metadata": {},
   "outputs": [
    {
     "data": {
      "text/plain": [
       "'mahesh'"
      ]
     },
     "execution_count": 50,
     "metadata": {},
     "output_type": "execute_result"
    }
   ],
   "source": [
    "emp1.name"
   ]
  },
  {
   "cell_type": "code",
   "execution_count": 62,
   "id": "0bb6bc29-520e-449a-8db4-dedfba603378",
   "metadata": {},
   "outputs": [],
   "source": [
    "class Employee:\n",
    "    def __init__(self, name1, salary):\n",
    "        self.__name = name1\n",
    "        self.__salary = salary\n",
    "\n",
    "    def get_name(self):\n",
    "        return self.__name\n",
    "\n",
    "    def get_salary(self):\n",
    "        return self.__salary\n",
    "\n",
    "    def set_incriment(self, val):\n",
    "        self.__salary += val\n",
    "        return self.__salary\n"
   ]
  },
  {
   "cell_type": "code",
   "execution_count": 63,
   "id": "f9c9fac2-e6f5-4797-9a35-0d60b559da13",
   "metadata": {},
   "outputs": [],
   "source": [
    "emp1 = Employee(\"Mahesh\", 5000)"
   ]
  },
  {
   "cell_type": "code",
   "execution_count": 64,
   "id": "0e4b1e94-ae21-4623-8635-cab0d5e66f38",
   "metadata": {},
   "outputs": [
    {
     "data": {
      "text/plain": [
       "{'_Employee__name': 'Mahesh', '_Employee__salary': 5000}"
      ]
     },
     "execution_count": 64,
     "metadata": {},
     "output_type": "execute_result"
    }
   ],
   "source": [
    "emp1.__dict__"
   ]
  },
  {
   "cell_type": "code",
   "execution_count": 65,
   "id": "e749e5eb-d7c0-4dbd-9e7f-ec9e36e45e1d",
   "metadata": {},
   "outputs": [
    {
     "ename": "AttributeError",
     "evalue": "'Employee' object has no attribute '__name'",
     "output_type": "error",
     "traceback": [
      "\u001b[1;31m---------------------------------------------------------------------------\u001b[0m",
      "\u001b[1;31mAttributeError\u001b[0m                            Traceback (most recent call last)",
      "Cell \u001b[1;32mIn[65], line 1\u001b[0m\n\u001b[1;32m----> 1\u001b[0m \u001b[43memp1\u001b[49m\u001b[38;5;241;43m.\u001b[39;49m\u001b[43m__name\u001b[49m\n",
      "\u001b[1;31mAttributeError\u001b[0m: 'Employee' object has no attribute '__name'"
     ]
    }
   ],
   "source": [
    "emp1.__name"
   ]
  },
  {
   "cell_type": "code",
   "execution_count": 66,
   "id": "87d60359-6e1a-4416-9e14-63f83fd74dea",
   "metadata": {},
   "outputs": [
    {
     "data": {
      "text/plain": [
       "'Mahesh'"
      ]
     },
     "execution_count": 66,
     "metadata": {},
     "output_type": "execute_result"
    }
   ],
   "source": [
    "emp1.get_name()"
   ]
  },
  {
   "cell_type": "code",
   "execution_count": 67,
   "id": "095519d5-4579-40b7-9981-9bf264bc8623",
   "metadata": {},
   "outputs": [
    {
     "data": {
      "text/plain": [
       "5000"
      ]
     },
     "execution_count": 67,
     "metadata": {},
     "output_type": "execute_result"
    }
   ],
   "source": [
    "emp1.get_salary()"
   ]
  },
  {
   "cell_type": "code",
   "execution_count": 68,
   "id": "e95ecebc-fe6c-40cc-ab0f-789853843c80",
   "metadata": {},
   "outputs": [
    {
     "data": {
      "text/plain": [
       "'Mahesh'"
      ]
     },
     "execution_count": 68,
     "metadata": {},
     "output_type": "execute_result"
    }
   ],
   "source": [
    "emp1._Employee__name"
   ]
  },
  {
   "cell_type": "code",
   "execution_count": 69,
   "id": "62e5f7ba-3a4e-41ea-b847-f4f47e64ba9a",
   "metadata": {},
   "outputs": [],
   "source": [
    "emp1._Employee__name = \"mahesh\""
   ]
  },
  {
   "cell_type": "code",
   "execution_count": 70,
   "id": "fde4ee87-771a-4d7b-9f05-8883cb0a68cb",
   "metadata": {},
   "outputs": [
    {
     "data": {
      "text/plain": [
       "{'_Employee__name': 'mahesh', '_Employee__salary': 5000}"
      ]
     },
     "execution_count": 70,
     "metadata": {},
     "output_type": "execute_result"
    }
   ],
   "source": [
    "emp1.__dict__"
   ]
  },
  {
   "cell_type": "code",
   "execution_count": null,
   "id": "a8ff6ea8-ce2f-4b27-a6c1-475d892f657d",
   "metadata": {},
   "outputs": [],
   "source": []
  },
  {
   "cell_type": "code",
   "execution_count": null,
   "id": "3609e71a-a761-41e1-b31e-d4b221d64c09",
   "metadata": {},
   "outputs": [],
   "source": []
  },
  {
   "cell_type": "code",
   "execution_count": 82,
   "id": "7f1933e9-1614-44d9-920a-4bd15cf33450",
   "metadata": {},
   "outputs": [],
   "source": [
    "class XYZEmployee:\n",
    "    company = \"xyz\"\n",
    "    def __init__(self, name1, salary):\n",
    "        self.name = name1\n",
    "        self.__salary = salary\n",
    "\n",
    "    def get_name(self):\n",
    "        return self.__name\n",
    "\n",
    "    def get_salary(self):\n",
    "        return self.__salary\n",
    "\n",
    "    def set_incriment(self, val):\n",
    "        self.__salary += val\n",
    "        return self.__salary"
   ]
  },
  {
   "cell_type": "code",
   "execution_count": 83,
   "id": "ba2d89f3-a1be-4b92-9ab9-548fe5890583",
   "metadata": {},
   "outputs": [],
   "source": [
    "emp1 = XYZEmployee(\"Mahesh\", 5000)\n",
    "emp2 = XYZEmployee(\"Shiva\", 8000)\n",
    "emp3 = XYZEmployee(\"Krishna\", 1000)"
   ]
  },
  {
   "cell_type": "code",
   "execution_count": 84,
   "id": "91e25c72-38f3-4c17-bf54-ddf7edb89ba1",
   "metadata": {},
   "outputs": [
    {
     "data": {
      "text/plain": [
       "'xyz'"
      ]
     },
     "execution_count": 84,
     "metadata": {},
     "output_type": "execute_result"
    }
   ],
   "source": [
    "emp1.company"
   ]
  },
  {
   "cell_type": "code",
   "execution_count": 85,
   "id": "1d7ddfd5-b174-4e20-8b1b-24774c1642d8",
   "metadata": {},
   "outputs": [
    {
     "data": {
      "text/plain": [
       "'xyz'"
      ]
     },
     "execution_count": 85,
     "metadata": {},
     "output_type": "execute_result"
    }
   ],
   "source": [
    "emp2.company"
   ]
  },
  {
   "cell_type": "code",
   "execution_count": 86,
   "id": "03614276-ab8e-4a44-9013-c684209481cb",
   "metadata": {},
   "outputs": [],
   "source": [
    "XYZEmployee.company = \"ABC\""
   ]
  },
  {
   "cell_type": "code",
   "execution_count": 87,
   "id": "5d2f06a4-3efc-4039-a13a-5429b8a6794a",
   "metadata": {},
   "outputs": [
    {
     "data": {
      "text/plain": [
       "'ABC'"
      ]
     },
     "execution_count": 87,
     "metadata": {},
     "output_type": "execute_result"
    }
   ],
   "source": [
    "emp1.company"
   ]
  },
  {
   "cell_type": "code",
   "execution_count": 88,
   "id": "9b9b61b2-d4fe-4afa-8bac-432957273c03",
   "metadata": {},
   "outputs": [
    {
     "data": {
      "text/plain": [
       "'ABC'"
      ]
     },
     "execution_count": 88,
     "metadata": {},
     "output_type": "execute_result"
    }
   ],
   "source": [
    "emp2.company"
   ]
  },
  {
   "cell_type": "code",
   "execution_count": 89,
   "id": "365f43e1-aa05-40cb-a40b-9243861dc755",
   "metadata": {},
   "outputs": [
    {
     "data": {
      "text/plain": [
       "'ABC'"
      ]
     },
     "execution_count": 89,
     "metadata": {},
     "output_type": "execute_result"
    }
   ],
   "source": [
    "emp3.company"
   ]
  },
  {
   "cell_type": "code",
   "execution_count": 90,
   "id": "98d743b3-2417-48d0-808b-1946a9556288",
   "metadata": {},
   "outputs": [
    {
     "data": {
      "text/plain": [
       "'Mahesh'"
      ]
     },
     "execution_count": 90,
     "metadata": {},
     "output_type": "execute_result"
    }
   ],
   "source": [
    "emp1.name"
   ]
  },
  {
   "cell_type": "code",
   "execution_count": 91,
   "id": "9e558ed6-ccc4-47d6-a3f6-68c566a930f3",
   "metadata": {},
   "outputs": [
    {
     "data": {
      "text/plain": [
       "'Shiva'"
      ]
     },
     "execution_count": 91,
     "metadata": {},
     "output_type": "execute_result"
    }
   ],
   "source": [
    "emp2.name"
   ]
  },
  {
   "cell_type": "code",
   "execution_count": 92,
   "id": "931a07a0-8d36-405f-b71d-bf7e8f897317",
   "metadata": {},
   "outputs": [],
   "source": [
    "class XYZEmployee:\n",
    "    company = \"xyz\"\n",
    "    def __init__(self, name1, salary):\n",
    "        self.name = name1\n",
    "        self.__salary = salary\n",
    "\n",
    "    def get_name(self):\n",
    "        return self.__name\n",
    "\n",
    "    def get_salary(self):\n",
    "        return self.__salary\n",
    "\n",
    "    def set_incriment(self, val):\n",
    "        self.__salary += val\n",
    "        return self.__salary\n",
    "\n",
    "    @classmethod\n",
    "    def set_company_name(cls, name):\n",
    "        cls.company = name"
   ]
  },
  {
   "cell_type": "code",
   "execution_count": 93,
   "id": "657ce28b-1096-4c5a-bf47-76b843fb5503",
   "metadata": {},
   "outputs": [
    {
     "data": {
      "text/plain": [
       "'xyz'"
      ]
     },
     "execution_count": 93,
     "metadata": {},
     "output_type": "execute_result"
    }
   ],
   "source": [
    "emp1 = XYZEmployee(\"Mahesh\", 5000)\n",
    "emp1.company"
   ]
  },
  {
   "cell_type": "code",
   "execution_count": 94,
   "id": "d77f3cd5-77b6-4820-be90-7cf83544184e",
   "metadata": {},
   "outputs": [],
   "source": [
    "emp1.set_company_name(\"ABC\")"
   ]
  },
  {
   "cell_type": "code",
   "execution_count": 95,
   "id": "17ece6b4-274d-48b3-a58a-ef8155ed1b28",
   "metadata": {},
   "outputs": [
    {
     "data": {
      "text/plain": [
       "'ABC'"
      ]
     },
     "execution_count": 95,
     "metadata": {},
     "output_type": "execute_result"
    }
   ],
   "source": [
    "emp1.company"
   ]
  },
  {
   "cell_type": "code",
   "execution_count": 96,
   "id": "b0fe7cfd-3023-4244-a46d-a41d4c81c6e4",
   "metadata": {},
   "outputs": [
    {
     "data": {
      "text/plain": [
       "'ABC'"
      ]
     },
     "execution_count": 96,
     "metadata": {},
     "output_type": "execute_result"
    }
   ],
   "source": [
    "emp2 = XYZEmployee(\"Shiva\", 4000)\n",
    "emp2.company"
   ]
  },
  {
   "cell_type": "code",
   "execution_count": 97,
   "id": "d370d356-b275-4538-983f-71287580c066",
   "metadata": {},
   "outputs": [
    {
     "data": {
      "text/plain": [
       "{'name': 'Mahesh', '_XYZEmployee__salary': 5000}"
      ]
     },
     "execution_count": 97,
     "metadata": {},
     "output_type": "execute_result"
    }
   ],
   "source": [
    "emp1.__dict__"
   ]
  },
  {
   "cell_type": "code",
   "execution_count": 98,
   "id": "7fa83b46-6f3c-4abb-abb7-3bd164bb5d3b",
   "metadata": {},
   "outputs": [
    {
     "name": "stdout",
     "output_type": "stream",
     "text": [
      "{'__module__': '__main__', '__firstlineno__': 1, 'company': 'ABC', '__init__': <function XYZEmployee.__init__ at 0x00000225DF028040>, 'get_name': <function XYZEmployee.get_name at 0x00000225DF028720>, 'get_salary': <function XYZEmployee.get_salary at 0x00000225DF02B2E0>, 'set_incriment': <function XYZEmployee.set_incriment at 0x00000225DF02B560>, 'set_company_name': <classmethod(<function XYZEmployee.set_company_name at 0x00000225DF02B6A0>)>, '__static_attributes__': ('__salary', 'name'), '__dict__': <attribute '__dict__' of 'XYZEmployee' objects>, '__weakref__': <attribute '__weakref__' of 'XYZEmployee' objects>, '__doc__': None}\n"
     ]
    }
   ],
   "source": [
    "print(XYZEmployee.__dict__)"
   ]
  },
  {
   "cell_type": "code",
   "execution_count": null,
   "id": "9154f722-2af5-4c33-8f83-e9fc5f5ad139",
   "metadata": {},
   "outputs": [],
   "source": []
  },
  {
   "cell_type": "code",
   "execution_count": null,
   "id": "ee729a07-5ee7-4015-854b-107b368ec2f7",
   "metadata": {},
   "outputs": [],
   "source": []
  },
  {
   "cell_type": "code",
   "execution_count": 99,
   "id": "5ef7246f-94f1-4591-b6a1-6d0f3ca75476",
   "metadata": {},
   "outputs": [],
   "source": [
    "# Inheritence in Python"
   ]
  },
  {
   "cell_type": "code",
   "execution_count": 104,
   "id": "da37d965-35e8-41df-9cfa-ed7fd4408721",
   "metadata": {},
   "outputs": [
    {
     "name": "stdout",
     "output_type": "stream",
     "text": [
      "Jerry holand\n"
     ]
    }
   ],
   "source": [
    "# Parent(base class) --> child(derived class)\n",
    "class Person:\n",
    "    def __init__(self, fname, lname):\n",
    "        self.first_name = fname\n",
    "        self.last_name = lname\n",
    "\n",
    "    def print_name(self):\n",
    "        print(self.first_name, self.last_name)\n",
    "\n",
    "x = Parent(\"Jerry\", \"holand\")\n",
    "x.print_name()"
   ]
  },
  {
   "cell_type": "code",
   "execution_count": 105,
   "id": "ed48ccab-b51e-4706-b770-2e84a63b07a6",
   "metadata": {},
   "outputs": [],
   "source": [
    "# child class\n",
    "class Employee(Person):\n",
    "    pass"
   ]
  },
  {
   "cell_type": "code",
   "execution_count": 107,
   "id": "f8799c08-8803-47cc-bf86-dde3e7fa1301",
   "metadata": {},
   "outputs": [],
   "source": [
    "emp1 = Employee(\"Mahesh\", \"Matam\")"
   ]
  },
  {
   "cell_type": "code",
   "execution_count": 108,
   "id": "0da22d90-7d96-4188-ba4d-c390162b5b42",
   "metadata": {},
   "outputs": [
    {
     "name": "stdout",
     "output_type": "stream",
     "text": [
      "Mahesh Matam\n"
     ]
    }
   ],
   "source": [
    "emp1.print_name()"
   ]
  },
  {
   "cell_type": "code",
   "execution_count": 109,
   "id": "e4d66536-3fcf-4c3a-8387-8e04c2aa8b80",
   "metadata": {},
   "outputs": [],
   "source": [
    "class Employee(Person):\n",
    "    def __init__(self, empid):\n",
    "        self.empid = empid"
   ]
  },
  {
   "cell_type": "code",
   "execution_count": 110,
   "id": "364d3221-12da-4b7b-a758-c53ba2a6ffec",
   "metadata": {},
   "outputs": [
    {
     "ename": "TypeError",
     "evalue": "Employee.__init__() takes 2 positional arguments but 3 were given",
     "output_type": "error",
     "traceback": [
      "\u001b[1;31m---------------------------------------------------------------------------\u001b[0m",
      "\u001b[1;31mTypeError\u001b[0m                                 Traceback (most recent call last)",
      "Cell \u001b[1;32mIn[110], line 1\u001b[0m\n\u001b[1;32m----> 1\u001b[0m emp1 \u001b[38;5;241m=\u001b[39m \u001b[43mEmployee\u001b[49m\u001b[43m(\u001b[49m\u001b[38;5;124;43m\"\u001b[39;49m\u001b[38;5;124;43mMahesh\u001b[39;49m\u001b[38;5;124;43m\"\u001b[39;49m\u001b[43m,\u001b[49m\u001b[43m \u001b[49m\u001b[38;5;124;43m\"\u001b[39;49m\u001b[38;5;124;43mMatam\u001b[39;49m\u001b[38;5;124;43m\"\u001b[39;49m\u001b[43m)\u001b[49m\n",
      "\u001b[1;31mTypeError\u001b[0m: Employee.__init__() takes 2 positional arguments but 3 were given"
     ]
    }
   ],
   "source": [
    "emp1 = Employee(\"Mahesh\", \"Matam\")"
   ]
  },
  {
   "cell_type": "code",
   "execution_count": 111,
   "id": "54e6b45c-76aa-485f-b030-a8f808f74dc1",
   "metadata": {},
   "outputs": [],
   "source": [
    "class Employee(Person):\n",
    "    def __init__(self, empid, fname, lname):\n",
    "        self.empid = empid\n",
    "        super().__init__(fname, lname)\n",
    "\n",
    "emp1 = Employee(123, \"Mahesh\", \"Matam\")"
   ]
  },
  {
   "cell_type": "code",
   "execution_count": 112,
   "id": "e7c1c48c-32de-4cb0-b950-f88bf391734b",
   "metadata": {},
   "outputs": [
    {
     "data": {
      "text/plain": [
       "'Mahesh'"
      ]
     },
     "execution_count": 112,
     "metadata": {},
     "output_type": "execute_result"
    }
   ],
   "source": [
    "emp1.first_name"
   ]
  },
  {
   "cell_type": "code",
   "execution_count": 113,
   "id": "127ac577-61dc-4ce2-8e21-540f6fd1f626",
   "metadata": {},
   "outputs": [
    {
     "data": {
      "text/plain": [
       "123"
      ]
     },
     "execution_count": 113,
     "metadata": {},
     "output_type": "execute_result"
    }
   ],
   "source": [
    "emp1.empid"
   ]
  },
  {
   "cell_type": "code",
   "execution_count": 114,
   "id": "fa7111a8-e8bb-482c-bc20-0d5bd61d6910",
   "metadata": {},
   "outputs": [],
   "source": [
    "class Employee(Person):\n",
    "    def __init__(self, empid, fname, lname):\n",
    "        self.empid = empid\n",
    "\n",
    "emp2 = Employee(123, \"Mahesh\", \"Matam\")"
   ]
  },
  {
   "cell_type": "code",
   "execution_count": 115,
   "id": "4a63d911-cd1c-44c2-bbca-0d32ba68d129",
   "metadata": {},
   "outputs": [
    {
     "ename": "AttributeError",
     "evalue": "'Employee' object has no attribute 'first_name'",
     "output_type": "error",
     "traceback": [
      "\u001b[1;31m---------------------------------------------------------------------------\u001b[0m",
      "\u001b[1;31mAttributeError\u001b[0m                            Traceback (most recent call last)",
      "Cell \u001b[1;32mIn[115], line 1\u001b[0m\n\u001b[1;32m----> 1\u001b[0m \u001b[43memp2\u001b[49m\u001b[38;5;241;43m.\u001b[39;49m\u001b[43mfirst_name\u001b[49m\n",
      "\u001b[1;31mAttributeError\u001b[0m: 'Employee' object has no attribute 'first_name'"
     ]
    }
   ],
   "source": [
    "emp2.first_name"
   ]
  },
  {
   "cell_type": "code",
   "execution_count": 116,
   "id": "ed6ddab4-e472-4ed0-952e-b5f252c696a5",
   "metadata": {},
   "outputs": [
    {
     "ename": "AttributeError",
     "evalue": "'Employee' object has no attribute 'first_name'",
     "output_type": "error",
     "traceback": [
      "\u001b[1;31m---------------------------------------------------------------------------\u001b[0m",
      "\u001b[1;31mAttributeError\u001b[0m                            Traceback (most recent call last)",
      "Cell \u001b[1;32mIn[116], line 1\u001b[0m\n\u001b[1;32m----> 1\u001b[0m \u001b[43memp2\u001b[49m\u001b[38;5;241;43m.\u001b[39;49m\u001b[43mprint_name\u001b[49m\u001b[43m(\u001b[49m\u001b[43m)\u001b[49m\n",
      "Cell \u001b[1;32mIn[104], line 8\u001b[0m, in \u001b[0;36mPerson.print_name\u001b[1;34m(self)\u001b[0m\n\u001b[0;32m      7\u001b[0m \u001b[38;5;28;01mdef\u001b[39;00m \u001b[38;5;21mprint_name\u001b[39m(\u001b[38;5;28mself\u001b[39m):\n\u001b[1;32m----> 8\u001b[0m     \u001b[38;5;28mprint\u001b[39m(\u001b[38;5;28;43mself\u001b[39;49m\u001b[38;5;241;43m.\u001b[39;49m\u001b[43mfirst_name\u001b[49m, \u001b[38;5;28mself\u001b[39m\u001b[38;5;241m.\u001b[39mlast_name)\n",
      "\u001b[1;31mAttributeError\u001b[0m: 'Employee' object has no attribute 'first_name'"
     ]
    }
   ],
   "source": [
    "emp2.print_name()"
   ]
  },
  {
   "cell_type": "code",
   "execution_count": 117,
   "id": "d526756f-159c-4890-a527-7ddb161b70e9",
   "metadata": {},
   "outputs": [
    {
     "data": {
      "text/plain": [
       "{'empid': 123}"
      ]
     },
     "execution_count": 117,
     "metadata": {},
     "output_type": "execute_result"
    }
   ],
   "source": [
    "emp2.__dict__"
   ]
  },
  {
   "cell_type": "code",
   "execution_count": 118,
   "id": "9e6c076f-44a0-4d4b-879e-d6596986c14e",
   "metadata": {},
   "outputs": [
    {
     "data": {
      "text/plain": [
       "{'empid': 123, 'first_name': 'Mahesh', 'last_name': 'Matam'}"
      ]
     },
     "execution_count": 118,
     "metadata": {},
     "output_type": "execute_result"
    }
   ],
   "source": [
    "emp1.__dict__"
   ]
  },
  {
   "cell_type": "code",
   "execution_count": null,
   "id": "4563316a-2882-4ed4-a894-28421d99e6e3",
   "metadata": {},
   "outputs": [],
   "source": []
  },
  {
   "cell_type": "code",
   "execution_count": null,
   "id": "d755371d-679d-4f66-880d-085ddcf86598",
   "metadata": {},
   "outputs": [],
   "source": []
  },
  {
   "cell_type": "code",
   "execution_count": null,
   "id": "0032ca75-bfe5-492d-9abb-cd41e0d23efe",
   "metadata": {},
   "outputs": [],
   "source": []
  },
  {
   "cell_type": "code",
   "execution_count": 127,
   "id": "59340e1e-78c0-4616-8136-314815aa41da",
   "metadata": {},
   "outputs": [],
   "source": [
    "class A:\n",
    "    def __init__(self, x, y):\n",
    "        self.x = x\n",
    "        print(\"here in X\")\n",
    "\n",
    "class B(A):\n",
    "    # something\n",
    "    pass\n",
    "\n",
    "class C(B):\n",
    "    def __init__(self, x, y):\n",
    "        self.y = y\n",
    "        print(\"in class C\")"
   ]
  },
  {
   "cell_type": "code",
   "execution_count": 129,
   "id": "74f02957-efd9-480e-bcee-a29bd2ec0cdb",
   "metadata": {},
   "outputs": [
    {
     "name": "stdout",
     "output_type": "stream",
     "text": [
      "in class C\n"
     ]
    }
   ],
   "source": [
    "c = C(4, 5)"
   ]
  },
  {
   "cell_type": "code",
   "execution_count": 131,
   "id": "13f8596a-0ee1-4bb6-8d73-99999e8b486e",
   "metadata": {},
   "outputs": [
    {
     "name": "stdout",
     "output_type": "stream",
     "text": [
      "here in X\n"
     ]
    }
   ],
   "source": [
    "b = B(5, 6)"
   ]
  },
  {
   "cell_type": "code",
   "execution_count": null,
   "id": "5bd0796d-6117-4dcf-8ea7-6e554a53dd22",
   "metadata": {},
   "outputs": [],
   "source": []
  },
  {
   "cell_type": "code",
   "execution_count": null,
   "id": "15988eeb-68ae-458c-bf2e-01e7e3bdbc58",
   "metadata": {},
   "outputs": [],
   "source": []
  },
  {
   "cell_type": "code",
   "execution_count": 132,
   "id": "311ab5bf-ec6d-4fc8-861b-3d0947416c06",
   "metadata": {},
   "outputs": [
    {
     "name": "stdout",
     "output_type": "stream",
     "text": [
      "I am in C\n"
     ]
    }
   ],
   "source": [
    "class A:\n",
    "    def __init__(self):\n",
    "        print(\"I am in A\")\n",
    "class B(A):\n",
    "    def __init__(self):\n",
    "        print(\"I am in B\")\n",
    "class C(B):\n",
    "    def __init__(self):\n",
    "        print(\"I am in C\")\n",
    "c = C()"
   ]
  },
  {
   "cell_type": "code",
   "execution_count": 133,
   "id": "46c5f14e-dfd0-432a-b8e9-ca3e0880c02c",
   "metadata": {},
   "outputs": [
    {
     "name": "stdout",
     "output_type": "stream",
     "text": [
      "I am in C\n",
      "I am in B\n"
     ]
    }
   ],
   "source": [
    "class A:\n",
    "    def __init__(self):\n",
    "        print(\"I am in A\")\n",
    "class B(A):\n",
    "    def __init__(self):\n",
    "        print(\"I am in B\")\n",
    "class C(B):\n",
    "    def __init__(self):\n",
    "        print(\"I am in C\")\n",
    "        super().__init__()\n",
    "c = C()"
   ]
  },
  {
   "cell_type": "code",
   "execution_count": 134,
   "id": "9f6a249a-5fc8-4cee-9587-3592f3845dc2",
   "metadata": {},
   "outputs": [
    {
     "name": "stdout",
     "output_type": "stream",
     "text": [
      "I am in C\n",
      "I am in B\n",
      "I am in A\n"
     ]
    }
   ],
   "source": [
    "class A:\n",
    "    def __init__(self):\n",
    "        print(\"I am in A\")\n",
    "class B(A):\n",
    "    def __init__(self):\n",
    "        print(\"I am in B\")\n",
    "        super().__init__()\n",
    "class C(B):\n",
    "    def __init__(self):\n",
    "        print(\"I am in C\")\n",
    "        super().__init__()\n",
    "c = C()"
   ]
  },
  {
   "cell_type": "code",
   "execution_count": 135,
   "id": "0e43b4ea-8c35-416b-bb8d-4449f1a7718b",
   "metadata": {},
   "outputs": [],
   "source": [
    "#mro : method resolution order"
   ]
  },
  {
   "cell_type": "code",
   "execution_count": 136,
   "id": "6a780148-8430-4236-9a5f-f07eb35260aa",
   "metadata": {
    "collapsed": true,
    "jupyter": {
     "outputs_hidden": true
    }
   },
   "outputs": [
    {
     "name": "stdout",
     "output_type": "stream",
     "text": [
      "Help on C in module __main__ object:\n",
      "\n",
      "class C(B)\n",
      " |  Method resolution order:\n",
      " |      C\n",
      " |      B\n",
      " |      A\n",
      " |      builtins.object\n",
      " |\n",
      " |  Methods defined here:\n",
      " |\n",
      " |  __init__(self)\n",
      " |      Initialize self.  See help(type(self)) for accurate signature.\n",
      " |\n",
      " |  ----------------------------------------------------------------------\n",
      " |  Data descriptors inherited from A:\n",
      " |\n",
      " |  __dict__\n",
      " |      dictionary for instance variables\n",
      " |\n",
      " |  __weakref__\n",
      " |      list of weak references to the object\n",
      "\n"
     ]
    }
   ],
   "source": [
    "help(c)"
   ]
  },
  {
   "cell_type": "code",
   "execution_count": null,
   "id": "c5659b78-c366-4ec9-9d79-dd97e6f8218d",
   "metadata": {},
   "outputs": [],
   "source": [
    "Hybrid inheritence\n",
    "  A\n",
    "  |       --> hierarchical inheritence\n",
    "B   C\n",
    "|   |\n",
    "-----\n",
    "  |      --> multiple inheritence\n",
    "  D"
   ]
  },
  {
   "cell_type": "code",
   "execution_count": 143,
   "id": "86550b2d-fc56-4d5c-9b5c-b4680b7555eb",
   "metadata": {},
   "outputs": [],
   "source": [
    "class A:\n",
    "    def __init__(self):\n",
    "        print(\"I am in A\")\n",
    "class B(A):\n",
    "    def __init__(self):\n",
    "        print(\"I am in B\")\n",
    "        super().__init__()\n",
    "class C:\n",
    "    def __init__(self):\n",
    "        print(\"I am in C\")\n",
    "\n",
    "class D(B, C):\n",
    "    def __init__(self):\n",
    "        print(\"I am in D\")\n",
    "        super().__init__()"
   ]
  },
  {
   "cell_type": "code",
   "execution_count": 144,
   "id": "36db99fa-125b-4a03-99ab-1075f7eef44e",
   "metadata": {},
   "outputs": [
    {
     "name": "stdout",
     "output_type": "stream",
     "text": [
      "I am in D\n",
      "I am in B\n",
      "I am in A\n"
     ]
    }
   ],
   "source": [
    "d = D()"
   ]
  },
  {
   "cell_type": "code",
   "execution_count": null,
   "id": "f2c949d5-4990-446f-a96c-c5c4de6f51b5",
   "metadata": {},
   "outputs": [],
   "source": []
  }
 ],
 "metadata": {
  "kernelspec": {
   "display_name": "Python 3 (ipykernel)",
   "language": "python",
   "name": "python3"
  },
  "language_info": {
   "codemirror_mode": {
    "name": "ipython",
    "version": 3
   },
   "file_extension": ".py",
   "mimetype": "text/x-python",
   "name": "python",
   "nbconvert_exporter": "python",
   "pygments_lexer": "ipython3",
   "version": "3.13.0"
  }
 },
 "nbformat": 4,
 "nbformat_minor": 5
}
